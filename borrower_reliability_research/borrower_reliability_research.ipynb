{
 "cells": [
  {
   "cell_type": "markdown",
   "id": "dc018e59",
   "metadata": {},
   "source": [
    "<div style=\"border:solid Chocolate 2px; padding: 40px\">\n",
    "\n",
    "<b>Илона, приветствую!</b>\n",
    "\n",
    "Буду рада с тобой познакомиться. Меня зовут Евгения Маракова и я буду ревьюером твоего проекта. Если ты не против, то предлагаю общаться на \"ты\":) Если удобнее на \"вы\", то нет проблем, только скажи об этом.\n",
    "\n",
    "В процессе работы ты встретишь комментарии <font color='green'>зеленого</font>, <font color='gold'>желтого</font> и <font color='red'>красного</font> цветов. Что они значат, смотри ниже:\n",
    "    <br/>\n",
    "\n",
    "<div class=\"alert alert-success\">\n",
    "<h2> Комментарий ревьюера <a class=\"tocSkip\"> </h2>\n",
    "\n",
    "<b>Отлично!✅:</b> Решение на этом шаге является полностью правильным.\n",
    "</div>\n",
    "\n",
    "<br/>\n",
    "\n",
    "<div class=\"alert alert-warning\">\n",
    "    <h2> Комментарий ревьюера <a class=\"tocSkip\"> </h2>\n",
    "    \n",
    "<b>Можно лучше⚠️:</b> Решение на этом шаге станет еще лучше, если внести небольшие коррективы.\n",
    "</div>\n",
    "\n",
    "\n",
    "<br/>\n",
    "<div class=\"alert alert-block alert-danger\">\n",
    "<h2> Комментарий ревьюера <a class=\"tocSkip\"></h2>\n",
    "\n",
    "    \n",
    "<b>Необходимо исправить❌:</b>\n",
    " Решение на этом шаге требует существенной переработки и внесения правок. Напоминаю, что проект не может быть принят с первого раза, если ревью содержит комментарии, рекомендующие доработать шаги.\n",
    "</div>\n",
    "    \n",
    "Увидев мой комментарий, не удаляй его, он будет очень полезен в случае повторной проверки работы😊\n",
    "    \n",
    "Свой комментарий помечай так, как показано ниже, тогда нам будет легче вести диалог, а мне выполнить повторную проверку проекта.\n",
    "    <div class=\"alert alert-info\"> <b>Комментарий студента: </b> </div>\n",
    "    \n"
   ]
  },
  {
   "cell_type": "markdown",
   "id": "386f2ae7",
   "metadata": {
    "deletable": false,
    "editable": false,
    "id": "386f2ae7"
   },
   "source": [
    "# Исследование надежности заемщиков\n"
   ]
  },
  {
   "cell_type": "markdown",
   "id": "ffe86f65",
   "metadata": {
    "deletable": false,
    "editable": false,
    "id": "ffe86f65"
   },
   "source": [
    "Во второй части проекта вы выполните шаги 3 и 4. Их вручную проверит ревьюер.\n",
    "Чтобы вам не пришлось писать код заново для шагов 1 и 2, мы добавили авторские решения в ячейки с кодом. \n",
    "\n"
   ]
  },
  {
   "cell_type": "markdown",
   "id": "26613308",
   "metadata": {
    "deletable": false,
    "editable": false,
    "id": "26613308"
   },
   "source": [
    "## Откройте таблицу и изучите общую информацию о данных"
   ]
  },
  {
   "cell_type": "markdown",
   "id": "3c9f838e",
   "metadata": {
    "deletable": false,
    "editable": false,
    "id": "3c9f838e"
   },
   "source": [
    "**Задание 1. Импортируйте библиотеку pandas. Считайте данные из csv-файла в датафрейм и сохраните в переменную `data`. Путь к файлу:**\n",
    "\n",
    "`/datasets/data.csv`"
   ]
  },
  {
   "cell_type": "code",
   "execution_count": 2,
   "id": "77a68a90",
   "metadata": {
    "deletable": false,
    "id": "77a68a90"
   },
   "outputs": [],
   "source": [
    "import pandas as pd\n",
    "\n",
    "try:\n",
    "    data = pd.read_csv('/datasets/data.csv')\n",
    "except:\n",
    "    data = pd.read_csv('https://code.s3.yandex.net/datasets/data.csv')"
   ]
  },
  {
   "cell_type": "markdown",
   "id": "45365635",
   "metadata": {
    "deletable": false,
    "editable": false,
    "id": "45365635"
   },
   "source": [
    "**Задание 2. Выведите первые 20 строчек датафрейма `data` на экран.**"
   ]
  },
  {
   "cell_type": "code",
   "execution_count": 3,
   "id": "b0451a9a",
   "metadata": {
    "deletable": false,
    "id": "b0451a9a",
    "outputId": "1a8f3ef2-d323-4ec2-ddf7-89670b5944c4"
   },
   "outputs": [
    {
     "data": {
      "text/html": [
       "<div>\n",
       "<style scoped>\n",
       "    .dataframe tbody tr th:only-of-type {\n",
       "        vertical-align: middle;\n",
       "    }\n",
       "\n",
       "    .dataframe tbody tr th {\n",
       "        vertical-align: top;\n",
       "    }\n",
       "\n",
       "    .dataframe thead th {\n",
       "        text-align: right;\n",
       "    }\n",
       "</style>\n",
       "<table border=\"1\" class=\"dataframe\">\n",
       "  <thead>\n",
       "    <tr style=\"text-align: right;\">\n",
       "      <th></th>\n",
       "      <th>children</th>\n",
       "      <th>days_employed</th>\n",
       "      <th>dob_years</th>\n",
       "      <th>education</th>\n",
       "      <th>education_id</th>\n",
       "      <th>family_status</th>\n",
       "      <th>family_status_id</th>\n",
       "      <th>gender</th>\n",
       "      <th>income_type</th>\n",
       "      <th>debt</th>\n",
       "      <th>total_income</th>\n",
       "      <th>purpose</th>\n",
       "    </tr>\n",
       "  </thead>\n",
       "  <tbody>\n",
       "    <tr>\n",
       "      <th>0</th>\n",
       "      <td>1</td>\n",
       "      <td>-8437.673028</td>\n",
       "      <td>42</td>\n",
       "      <td>высшее</td>\n",
       "      <td>0</td>\n",
       "      <td>женат / замужем</td>\n",
       "      <td>0</td>\n",
       "      <td>F</td>\n",
       "      <td>сотрудник</td>\n",
       "      <td>0</td>\n",
       "      <td>253875.639453</td>\n",
       "      <td>покупка жилья</td>\n",
       "    </tr>\n",
       "    <tr>\n",
       "      <th>1</th>\n",
       "      <td>1</td>\n",
       "      <td>-4024.803754</td>\n",
       "      <td>36</td>\n",
       "      <td>среднее</td>\n",
       "      <td>1</td>\n",
       "      <td>женат / замужем</td>\n",
       "      <td>0</td>\n",
       "      <td>F</td>\n",
       "      <td>сотрудник</td>\n",
       "      <td>0</td>\n",
       "      <td>112080.014102</td>\n",
       "      <td>приобретение автомобиля</td>\n",
       "    </tr>\n",
       "    <tr>\n",
       "      <th>2</th>\n",
       "      <td>0</td>\n",
       "      <td>-5623.422610</td>\n",
       "      <td>33</td>\n",
       "      <td>Среднее</td>\n",
       "      <td>1</td>\n",
       "      <td>женат / замужем</td>\n",
       "      <td>0</td>\n",
       "      <td>M</td>\n",
       "      <td>сотрудник</td>\n",
       "      <td>0</td>\n",
       "      <td>145885.952297</td>\n",
       "      <td>покупка жилья</td>\n",
       "    </tr>\n",
       "    <tr>\n",
       "      <th>3</th>\n",
       "      <td>3</td>\n",
       "      <td>-4124.747207</td>\n",
       "      <td>32</td>\n",
       "      <td>среднее</td>\n",
       "      <td>1</td>\n",
       "      <td>женат / замужем</td>\n",
       "      <td>0</td>\n",
       "      <td>M</td>\n",
       "      <td>сотрудник</td>\n",
       "      <td>0</td>\n",
       "      <td>267628.550329</td>\n",
       "      <td>дополнительное образование</td>\n",
       "    </tr>\n",
       "    <tr>\n",
       "      <th>4</th>\n",
       "      <td>0</td>\n",
       "      <td>340266.072047</td>\n",
       "      <td>53</td>\n",
       "      <td>среднее</td>\n",
       "      <td>1</td>\n",
       "      <td>гражданский брак</td>\n",
       "      <td>1</td>\n",
       "      <td>F</td>\n",
       "      <td>пенсионер</td>\n",
       "      <td>0</td>\n",
       "      <td>158616.077870</td>\n",
       "      <td>сыграть свадьбу</td>\n",
       "    </tr>\n",
       "    <tr>\n",
       "      <th>5</th>\n",
       "      <td>0</td>\n",
       "      <td>-926.185831</td>\n",
       "      <td>27</td>\n",
       "      <td>высшее</td>\n",
       "      <td>0</td>\n",
       "      <td>гражданский брак</td>\n",
       "      <td>1</td>\n",
       "      <td>M</td>\n",
       "      <td>компаньон</td>\n",
       "      <td>0</td>\n",
       "      <td>255763.565419</td>\n",
       "      <td>покупка жилья</td>\n",
       "    </tr>\n",
       "    <tr>\n",
       "      <th>6</th>\n",
       "      <td>0</td>\n",
       "      <td>-2879.202052</td>\n",
       "      <td>43</td>\n",
       "      <td>высшее</td>\n",
       "      <td>0</td>\n",
       "      <td>женат / замужем</td>\n",
       "      <td>0</td>\n",
       "      <td>F</td>\n",
       "      <td>компаньон</td>\n",
       "      <td>0</td>\n",
       "      <td>240525.971920</td>\n",
       "      <td>операции с жильем</td>\n",
       "    </tr>\n",
       "    <tr>\n",
       "      <th>7</th>\n",
       "      <td>0</td>\n",
       "      <td>-152.779569</td>\n",
       "      <td>50</td>\n",
       "      <td>СРЕДНЕЕ</td>\n",
       "      <td>1</td>\n",
       "      <td>женат / замужем</td>\n",
       "      <td>0</td>\n",
       "      <td>M</td>\n",
       "      <td>сотрудник</td>\n",
       "      <td>0</td>\n",
       "      <td>135823.934197</td>\n",
       "      <td>образование</td>\n",
       "    </tr>\n",
       "    <tr>\n",
       "      <th>8</th>\n",
       "      <td>2</td>\n",
       "      <td>-6929.865299</td>\n",
       "      <td>35</td>\n",
       "      <td>ВЫСШЕЕ</td>\n",
       "      <td>0</td>\n",
       "      <td>гражданский брак</td>\n",
       "      <td>1</td>\n",
       "      <td>F</td>\n",
       "      <td>сотрудник</td>\n",
       "      <td>0</td>\n",
       "      <td>95856.832424</td>\n",
       "      <td>на проведение свадьбы</td>\n",
       "    </tr>\n",
       "    <tr>\n",
       "      <th>9</th>\n",
       "      <td>0</td>\n",
       "      <td>-2188.756445</td>\n",
       "      <td>41</td>\n",
       "      <td>среднее</td>\n",
       "      <td>1</td>\n",
       "      <td>женат / замужем</td>\n",
       "      <td>0</td>\n",
       "      <td>M</td>\n",
       "      <td>сотрудник</td>\n",
       "      <td>0</td>\n",
       "      <td>144425.938277</td>\n",
       "      <td>покупка жилья для семьи</td>\n",
       "    </tr>\n",
       "    <tr>\n",
       "      <th>10</th>\n",
       "      <td>2</td>\n",
       "      <td>-4171.483647</td>\n",
       "      <td>36</td>\n",
       "      <td>высшее</td>\n",
       "      <td>0</td>\n",
       "      <td>женат / замужем</td>\n",
       "      <td>0</td>\n",
       "      <td>M</td>\n",
       "      <td>компаньон</td>\n",
       "      <td>0</td>\n",
       "      <td>113943.491460</td>\n",
       "      <td>покупка недвижимости</td>\n",
       "    </tr>\n",
       "    <tr>\n",
       "      <th>11</th>\n",
       "      <td>0</td>\n",
       "      <td>-792.701887</td>\n",
       "      <td>40</td>\n",
       "      <td>среднее</td>\n",
       "      <td>1</td>\n",
       "      <td>женат / замужем</td>\n",
       "      <td>0</td>\n",
       "      <td>F</td>\n",
       "      <td>сотрудник</td>\n",
       "      <td>0</td>\n",
       "      <td>77069.234271</td>\n",
       "      <td>покупка коммерческой недвижимости</td>\n",
       "    </tr>\n",
       "    <tr>\n",
       "      <th>12</th>\n",
       "      <td>0</td>\n",
       "      <td>NaN</td>\n",
       "      <td>65</td>\n",
       "      <td>среднее</td>\n",
       "      <td>1</td>\n",
       "      <td>гражданский брак</td>\n",
       "      <td>1</td>\n",
       "      <td>M</td>\n",
       "      <td>пенсионер</td>\n",
       "      <td>0</td>\n",
       "      <td>NaN</td>\n",
       "      <td>сыграть свадьбу</td>\n",
       "    </tr>\n",
       "    <tr>\n",
       "      <th>13</th>\n",
       "      <td>0</td>\n",
       "      <td>-1846.641941</td>\n",
       "      <td>54</td>\n",
       "      <td>неоконченное высшее</td>\n",
       "      <td>2</td>\n",
       "      <td>женат / замужем</td>\n",
       "      <td>0</td>\n",
       "      <td>F</td>\n",
       "      <td>сотрудник</td>\n",
       "      <td>0</td>\n",
       "      <td>130458.228857</td>\n",
       "      <td>приобретение автомобиля</td>\n",
       "    </tr>\n",
       "    <tr>\n",
       "      <th>14</th>\n",
       "      <td>0</td>\n",
       "      <td>-1844.956182</td>\n",
       "      <td>56</td>\n",
       "      <td>высшее</td>\n",
       "      <td>0</td>\n",
       "      <td>гражданский брак</td>\n",
       "      <td>1</td>\n",
       "      <td>F</td>\n",
       "      <td>компаньон</td>\n",
       "      <td>1</td>\n",
       "      <td>165127.911772</td>\n",
       "      <td>покупка жилой недвижимости</td>\n",
       "    </tr>\n",
       "    <tr>\n",
       "      <th>15</th>\n",
       "      <td>1</td>\n",
       "      <td>-972.364419</td>\n",
       "      <td>26</td>\n",
       "      <td>среднее</td>\n",
       "      <td>1</td>\n",
       "      <td>женат / замужем</td>\n",
       "      <td>0</td>\n",
       "      <td>F</td>\n",
       "      <td>сотрудник</td>\n",
       "      <td>0</td>\n",
       "      <td>116820.904450</td>\n",
       "      <td>строительство собственной недвижимости</td>\n",
       "    </tr>\n",
       "    <tr>\n",
       "      <th>16</th>\n",
       "      <td>0</td>\n",
       "      <td>-1719.934226</td>\n",
       "      <td>35</td>\n",
       "      <td>среднее</td>\n",
       "      <td>1</td>\n",
       "      <td>женат / замужем</td>\n",
       "      <td>0</td>\n",
       "      <td>F</td>\n",
       "      <td>сотрудник</td>\n",
       "      <td>0</td>\n",
       "      <td>289202.704229</td>\n",
       "      <td>недвижимость</td>\n",
       "    </tr>\n",
       "    <tr>\n",
       "      <th>17</th>\n",
       "      <td>0</td>\n",
       "      <td>-2369.999720</td>\n",
       "      <td>33</td>\n",
       "      <td>высшее</td>\n",
       "      <td>0</td>\n",
       "      <td>гражданский брак</td>\n",
       "      <td>1</td>\n",
       "      <td>M</td>\n",
       "      <td>сотрудник</td>\n",
       "      <td>0</td>\n",
       "      <td>90410.586745</td>\n",
       "      <td>строительство недвижимости</td>\n",
       "    </tr>\n",
       "    <tr>\n",
       "      <th>18</th>\n",
       "      <td>0</td>\n",
       "      <td>400281.136913</td>\n",
       "      <td>53</td>\n",
       "      <td>среднее</td>\n",
       "      <td>1</td>\n",
       "      <td>вдовец / вдова</td>\n",
       "      <td>2</td>\n",
       "      <td>F</td>\n",
       "      <td>пенсионер</td>\n",
       "      <td>0</td>\n",
       "      <td>56823.777243</td>\n",
       "      <td>на покупку подержанного автомобиля</td>\n",
       "    </tr>\n",
       "    <tr>\n",
       "      <th>19</th>\n",
       "      <td>0</td>\n",
       "      <td>-10038.818549</td>\n",
       "      <td>48</td>\n",
       "      <td>СРЕДНЕЕ</td>\n",
       "      <td>1</td>\n",
       "      <td>в разводе</td>\n",
       "      <td>3</td>\n",
       "      <td>F</td>\n",
       "      <td>сотрудник</td>\n",
       "      <td>0</td>\n",
       "      <td>242831.107982</td>\n",
       "      <td>на покупку своего автомобиля</td>\n",
       "    </tr>\n",
       "  </tbody>\n",
       "</table>\n",
       "</div>"
      ],
      "text/plain": [
       "    children  days_employed  dob_years            education  education_id  \\\n",
       "0          1   -8437.673028         42               высшее             0   \n",
       "1          1   -4024.803754         36              среднее             1   \n",
       "2          0   -5623.422610         33              Среднее             1   \n",
       "3          3   -4124.747207         32              среднее             1   \n",
       "4          0  340266.072047         53              среднее             1   \n",
       "5          0    -926.185831         27               высшее             0   \n",
       "6          0   -2879.202052         43               высшее             0   \n",
       "7          0    -152.779569         50              СРЕДНЕЕ             1   \n",
       "8          2   -6929.865299         35               ВЫСШЕЕ             0   \n",
       "9          0   -2188.756445         41              среднее             1   \n",
       "10         2   -4171.483647         36               высшее             0   \n",
       "11         0    -792.701887         40              среднее             1   \n",
       "12         0            NaN         65              среднее             1   \n",
       "13         0   -1846.641941         54  неоконченное высшее             2   \n",
       "14         0   -1844.956182         56               высшее             0   \n",
       "15         1    -972.364419         26              среднее             1   \n",
       "16         0   -1719.934226         35              среднее             1   \n",
       "17         0   -2369.999720         33               высшее             0   \n",
       "18         0  400281.136913         53              среднее             1   \n",
       "19         0  -10038.818549         48              СРЕДНЕЕ             1   \n",
       "\n",
       "       family_status  family_status_id gender income_type  debt  \\\n",
       "0    женат / замужем                 0      F   сотрудник     0   \n",
       "1    женат / замужем                 0      F   сотрудник     0   \n",
       "2    женат / замужем                 0      M   сотрудник     0   \n",
       "3    женат / замужем                 0      M   сотрудник     0   \n",
       "4   гражданский брак                 1      F   пенсионер     0   \n",
       "5   гражданский брак                 1      M   компаньон     0   \n",
       "6    женат / замужем                 0      F   компаньон     0   \n",
       "7    женат / замужем                 0      M   сотрудник     0   \n",
       "8   гражданский брак                 1      F   сотрудник     0   \n",
       "9    женат / замужем                 0      M   сотрудник     0   \n",
       "10   женат / замужем                 0      M   компаньон     0   \n",
       "11   женат / замужем                 0      F   сотрудник     0   \n",
       "12  гражданский брак                 1      M   пенсионер     0   \n",
       "13   женат / замужем                 0      F   сотрудник     0   \n",
       "14  гражданский брак                 1      F   компаньон     1   \n",
       "15   женат / замужем                 0      F   сотрудник     0   \n",
       "16   женат / замужем                 0      F   сотрудник     0   \n",
       "17  гражданский брак                 1      M   сотрудник     0   \n",
       "18    вдовец / вдова                 2      F   пенсионер     0   \n",
       "19         в разводе                 3      F   сотрудник     0   \n",
       "\n",
       "     total_income                                 purpose  \n",
       "0   253875.639453                           покупка жилья  \n",
       "1   112080.014102                 приобретение автомобиля  \n",
       "2   145885.952297                           покупка жилья  \n",
       "3   267628.550329              дополнительное образование  \n",
       "4   158616.077870                         сыграть свадьбу  \n",
       "5   255763.565419                           покупка жилья  \n",
       "6   240525.971920                       операции с жильем  \n",
       "7   135823.934197                             образование  \n",
       "8    95856.832424                   на проведение свадьбы  \n",
       "9   144425.938277                 покупка жилья для семьи  \n",
       "10  113943.491460                    покупка недвижимости  \n",
       "11   77069.234271       покупка коммерческой недвижимости  \n",
       "12            NaN                         сыграть свадьбу  \n",
       "13  130458.228857                 приобретение автомобиля  \n",
       "14  165127.911772              покупка жилой недвижимости  \n",
       "15  116820.904450  строительство собственной недвижимости  \n",
       "16  289202.704229                            недвижимость  \n",
       "17   90410.586745              строительство недвижимости  \n",
       "18   56823.777243      на покупку подержанного автомобиля  \n",
       "19  242831.107982            на покупку своего автомобиля  "
      ]
     },
     "execution_count": 3,
     "metadata": {},
     "output_type": "execute_result"
    }
   ],
   "source": [
    "data.head(20)"
   ]
  },
  {
   "cell_type": "markdown",
   "id": "0ed8f27f",
   "metadata": {
    "deletable": false,
    "editable": false,
    "id": "0ed8f27f"
   },
   "source": [
    "**Задание 3. Выведите основную информацию о датафрейме с помощью метода `info()`.**"
   ]
  },
  {
   "cell_type": "code",
   "execution_count": 4,
   "id": "ab3f863b",
   "metadata": {
    "deletable": false,
    "id": "ab3f863b",
    "outputId": "15376089-8dad-46c9-b520-c05248d43158"
   },
   "outputs": [
    {
     "name": "stdout",
     "output_type": "stream",
     "text": [
      "<class 'pandas.core.frame.DataFrame'>\n",
      "RangeIndex: 21525 entries, 0 to 21524\n",
      "Data columns (total 12 columns):\n",
      " #   Column            Non-Null Count  Dtype  \n",
      "---  ------            --------------  -----  \n",
      " 0   children          21525 non-null  int64  \n",
      " 1   days_employed     19351 non-null  float64\n",
      " 2   dob_years         21525 non-null  int64  \n",
      " 3   education         21525 non-null  object \n",
      " 4   education_id      21525 non-null  int64  \n",
      " 5   family_status     21525 non-null  object \n",
      " 6   family_status_id  21525 non-null  int64  \n",
      " 7   gender            21525 non-null  object \n",
      " 8   income_type       21525 non-null  object \n",
      " 9   debt              21525 non-null  int64  \n",
      " 10  total_income      19351 non-null  float64\n",
      " 11  purpose           21525 non-null  object \n",
      "dtypes: float64(2), int64(5), object(5)\n",
      "memory usage: 2.0+ MB\n"
     ]
    }
   ],
   "source": [
    "data.info()"
   ]
  },
  {
   "cell_type": "markdown",
   "id": "60e3e22d",
   "metadata": {
    "deletable": false,
    "editable": false,
    "id": "60e3e22d"
   },
   "source": [
    "## Предобработка данных"
   ]
  },
  {
   "cell_type": "markdown",
   "id": "03dc170c",
   "metadata": {
    "deletable": false,
    "editable": false,
    "id": "03dc170c"
   },
   "source": [
    "### Удаление пропусков"
   ]
  },
  {
   "cell_type": "markdown",
   "id": "a4f54eef",
   "metadata": {
    "deletable": false,
    "editable": false,
    "id": "a4f54eef"
   },
   "source": [
    "**Задание 4. Выведите количество пропущенных значений для каждого столбца. Используйте комбинацию двух методов.**"
   ]
  },
  {
   "cell_type": "code",
   "execution_count": 5,
   "id": "2dc372b2",
   "metadata": {
    "deletable": false,
    "id": "2dc372b2",
    "outputId": "81f4d817-781c-465c-ed15-91ce4446810d"
   },
   "outputs": [
    {
     "data": {
      "text/plain": [
       "children               0\n",
       "days_employed       2174\n",
       "dob_years              0\n",
       "education              0\n",
       "education_id           0\n",
       "family_status          0\n",
       "family_status_id       0\n",
       "gender                 0\n",
       "income_type            0\n",
       "debt                   0\n",
       "total_income        2174\n",
       "purpose                0\n",
       "dtype: int64"
      ]
     },
     "execution_count": 5,
     "metadata": {},
     "output_type": "execute_result"
    }
   ],
   "source": [
    "data.isna().sum()"
   ]
  },
  {
   "cell_type": "markdown",
   "id": "14f011b1",
   "metadata": {
    "deletable": false,
    "editable": false,
    "id": "14f011b1"
   },
   "source": [
    "**Задание 5. В двух столбцах есть пропущенные значения. Один из них — `days_employed`. Пропуски в этом столбце вы обработаете на следующем этапе. Другой столбец с пропущенными значениями — `total_income` — хранит данные о доходах. На сумму дохода сильнее всего влияет тип занятости, поэтому заполнить пропуски в этом столбце нужно медианным значением по каждому типу из столбца `income_type`. Например, у человека с типом занятости `сотрудник` пропуск в столбце `total_income` должен быть заполнен медианным доходом среди всех записей с тем же типом.**"
   ]
  },
  {
   "cell_type": "code",
   "execution_count": 6,
   "id": "bdabfb6e",
   "metadata": {
    "deletable": false,
    "id": "bdabfb6e"
   },
   "outputs": [],
   "source": [
    "for t in data['income_type'].unique():\n",
    "    data.loc[(data['income_type'] == t) & (data['total_income'].isna()), 'total_income'] = \\\n",
    "    data.loc[(data['income_type'] == t), 'total_income'].median()"
   ]
  },
  {
   "cell_type": "markdown",
   "id": "5be34059",
   "metadata": {
    "deletable": false,
    "editable": false,
    "id": "5be34059"
   },
   "source": [
    "### Обработка аномальных значений"
   ]
  },
  {
   "cell_type": "markdown",
   "id": "a87606cb",
   "metadata": {
    "deletable": false,
    "editable": false,
    "id": "a87606cb"
   },
   "source": [
    "**Задание 6. В данных могут встречаться артефакты (аномалии) — значения, которые не отражают действительность и появились по какой-то ошибке. таким артефактом будет отрицательное количество дней трудового стажа в столбце `days_employed`. Для реальных данных это нормально. Обработайте значения в этом столбце: замените все отрицательные значения положительными с помощью метода `abs()`.**"
   ]
  },
  {
   "cell_type": "code",
   "execution_count": 7,
   "id": "020c46cc",
   "metadata": {
    "deletable": false,
    "id": "020c46cc"
   },
   "outputs": [],
   "source": [
    "data['days_employed'] = data['days_employed'].abs()"
   ]
  },
  {
   "cell_type": "markdown",
   "id": "45538a3a",
   "metadata": {
    "deletable": false,
    "editable": false,
    "id": "45538a3a"
   },
   "source": [
    "**Задание 7. Для каждого типа занятости выведите медианное значение трудового стажа `days_employed` в днях.**"
   ]
  },
  {
   "cell_type": "code",
   "execution_count": 8,
   "id": "cd3e6328",
   "metadata": {
    "deletable": false,
    "id": "cd3e6328",
    "outputId": "801ef80e-522b-4668-f34e-565af7432bcf"
   },
   "outputs": [
    {
     "data": {
      "text/plain": [
       "income_type\n",
       "безработный        366413.652744\n",
       "в декрете            3296.759962\n",
       "госслужащий          2689.368353\n",
       "компаньон            1547.382223\n",
       "пенсионер          365213.306266\n",
       "предприниматель       520.848083\n",
       "сотрудник            1574.202821\n",
       "студент               578.751554\n",
       "Name: days_employed, dtype: float64"
      ]
     },
     "execution_count": 8,
     "metadata": {},
     "output_type": "execute_result"
    }
   ],
   "source": [
    "data.groupby('income_type')['days_employed'].agg('median')"
   ]
  },
  {
   "cell_type": "markdown",
   "id": "90c5f058",
   "metadata": {
    "deletable": false,
    "editable": false,
    "id": "90c5f058"
   },
   "source": [
    "У двух типов (безработные и пенсионеры) получатся аномально большие значения. Исправить такие значения сложно, поэтому оставьте их как есть."
   ]
  },
  {
   "cell_type": "markdown",
   "id": "9652e50d",
   "metadata": {
    "deletable": false,
    "editable": false,
    "id": "9652e50d"
   },
   "source": [
    "**Задание 8. Выведите перечень уникальных значений столбца `children`.**"
   ]
  },
  {
   "cell_type": "code",
   "execution_count": 9,
   "id": "dbb37b8e",
   "metadata": {
    "deletable": false,
    "id": "dbb37b8e",
    "outputId": "6975b15c-7f95-4697-d16d-a0c79b657b03"
   },
   "outputs": [
    {
     "data": {
      "text/plain": [
       "array([ 1,  0,  3,  2, -1,  4, 20,  5])"
      ]
     },
     "execution_count": 9,
     "metadata": {},
     "output_type": "execute_result"
    }
   ],
   "source": [
    "data['children'].unique()"
   ]
  },
  {
   "cell_type": "markdown",
   "id": "2b8b0715",
   "metadata": {
    "deletable": false,
    "editable": false,
    "id": "2b8b0715"
   },
   "source": [
    "**Задание 9. В столбце `children` есть два аномальных значения. Удалите строки, в которых встречаются такие аномальные значения из датафрейма `data`.**"
   ]
  },
  {
   "cell_type": "code",
   "execution_count": 10,
   "id": "20009df8",
   "metadata": {
    "deletable": false,
    "id": "20009df8"
   },
   "outputs": [],
   "source": [
    "data = data[(data['children'] != -1) & (data['children'] != 20)]"
   ]
  },
  {
   "cell_type": "markdown",
   "id": "8c6ac9f1",
   "metadata": {
    "deletable": false,
    "editable": false,
    "id": "8c6ac9f1"
   },
   "source": [
    "**Задание 10. Ещё раз выведите перечень уникальных значений столбца `children`, чтобы убедиться, что артефакты удалены.**"
   ]
  },
  {
   "cell_type": "code",
   "execution_count": 11,
   "id": "07337b81",
   "metadata": {
    "deletable": false,
    "id": "07337b81",
    "outputId": "b2097101-d49d-44d9-901b-32a65c9463d1"
   },
   "outputs": [
    {
     "data": {
      "text/plain": [
       "array([1, 0, 3, 2, 4, 5])"
      ]
     },
     "execution_count": 11,
     "metadata": {},
     "output_type": "execute_result"
    }
   ],
   "source": [
    "data['children'].unique()"
   ]
  },
  {
   "cell_type": "markdown",
   "id": "ee3f52d4",
   "metadata": {
    "deletable": false,
    "editable": false,
    "id": "ee3f52d4"
   },
   "source": [
    "### Удаление пропусков (продолжение)"
   ]
  },
  {
   "cell_type": "markdown",
   "id": "a700b0e4",
   "metadata": {
    "deletable": false,
    "editable": false,
    "id": "a700b0e4"
   },
   "source": [
    "**Задание 11. Заполните пропуски в столбце `days_employed` медианными значениями по каждого типа занятости `income_type`.**"
   ]
  },
  {
   "cell_type": "code",
   "execution_count": 12,
   "id": "61946b83",
   "metadata": {
    "deletable": false,
    "id": "61946b83"
   },
   "outputs": [],
   "source": [
    "for t in data['income_type'].unique():\n",
    "    data.loc[(data['income_type'] == t) & (data['days_employed'].isna()), 'days_employed'] = \\\n",
    "    data.loc[(data['income_type'] == t), 'days_employed'].median()"
   ]
  },
  {
   "cell_type": "markdown",
   "id": "550dcd9b",
   "metadata": {
    "deletable": false,
    "editable": false,
    "id": "550dcd9b"
   },
   "source": [
    "**Задание 12. Убедитесь, что все пропуски заполнены. Проверьте себя и ещё раз выведите количество пропущенных значений для каждого столбца с помощью двух методов.**"
   ]
  },
  {
   "cell_type": "code",
   "execution_count": 13,
   "id": "937c7014",
   "metadata": {
    "deletable": false,
    "id": "937c7014",
    "outputId": "8da1e4e1-358e-4e87-98c9-f261bce0a7b2"
   },
   "outputs": [
    {
     "data": {
      "text/plain": [
       "children            0\n",
       "days_employed       0\n",
       "dob_years           0\n",
       "education           0\n",
       "education_id        0\n",
       "family_status       0\n",
       "family_status_id    0\n",
       "gender              0\n",
       "income_type         0\n",
       "debt                0\n",
       "total_income        0\n",
       "purpose             0\n",
       "dtype: int64"
      ]
     },
     "execution_count": 13,
     "metadata": {},
     "output_type": "execute_result"
    }
   ],
   "source": [
    "data.isna().sum()"
   ]
  },
  {
   "cell_type": "markdown",
   "id": "d522e295",
   "metadata": {
    "deletable": false,
    "editable": false,
    "id": "d522e295"
   },
   "source": [
    "### Изменение типов данных"
   ]
  },
  {
   "cell_type": "markdown",
   "id": "c229c581",
   "metadata": {
    "deletable": false,
    "editable": false,
    "id": "c229c581"
   },
   "source": [
    "**Задание 13. Замените вещественный тип данных в столбце `total_income` на целочисленный с помощью метода `astype()`.**"
   ]
  },
  {
   "cell_type": "code",
   "execution_count": 14,
   "id": "31036462",
   "metadata": {
    "deletable": false,
    "id": "31036462"
   },
   "outputs": [],
   "source": [
    "data['total_income'] = data['total_income'].astype(int)"
   ]
  },
  {
   "cell_type": "markdown",
   "id": "b8e3d1d9",
   "metadata": {
    "deletable": false,
    "editable": false,
    "id": "b8e3d1d9"
   },
   "source": [
    "### Обработка дубликатов"
   ]
  },
  {
   "cell_type": "markdown",
   "id": "9be53c49",
   "metadata": {
    "deletable": false,
    "editable": false,
    "id": "9be53c49"
   },
   "source": [
    "**Задание 14. Обработайте неявные дубликаты в столбце `education`. В этом столбце есть одни и те же значения, но записанные по-разному: с использованием заглавных и строчных букв. Приведите их к нижнему регистру.**"
   ]
  },
  {
   "cell_type": "code",
   "execution_count": 15,
   "id": "d89e73e1",
   "metadata": {
    "deletable": false,
    "id": "d89e73e1"
   },
   "outputs": [],
   "source": [
    "data['education'] = data['education'].str.lower()"
   ]
  },
  {
   "cell_type": "markdown",
   "id": "01d4500e",
   "metadata": {
    "deletable": false,
    "editable": false,
    "id": "01d4500e"
   },
   "source": [
    "**Задание 15. Выведите на экран количество строк-дубликатов в данных. Если такие строки присутствуют, удалите их.**"
   ]
  },
  {
   "cell_type": "code",
   "execution_count": 16,
   "id": "e10efb23",
   "metadata": {
    "deletable": false,
    "id": "e10efb23",
    "outputId": "9684deba-1934-42d1-99e1-cda61740f822"
   },
   "outputs": [
    {
     "data": {
      "text/plain": [
       "71"
      ]
     },
     "execution_count": 16,
     "metadata": {},
     "output_type": "execute_result"
    }
   ],
   "source": [
    "data.duplicated().sum()"
   ]
  },
  {
   "cell_type": "code",
   "execution_count": 17,
   "id": "df853f20",
   "metadata": {
    "deletable": false,
    "id": "df853f20"
   },
   "outputs": [],
   "source": [
    "data = data.drop_duplicates()"
   ]
  },
  {
   "cell_type": "markdown",
   "id": "627be38f",
   "metadata": {
    "deletable": false,
    "editable": false,
    "id": "627be38f"
   },
   "source": [
    "### Категоризация данных"
   ]
  },
  {
   "cell_type": "markdown",
   "id": "4684c3e0",
   "metadata": {
    "deletable": false,
    "editable": false,
    "id": "4684c3e0"
   },
   "source": [
    "**Задание 16. На основании диапазонов, указанных ниже, создайте в датафрейме `data` столбец `total_income_category` с категориями:**\n",
    "\n",
    "- 0–30000 — `'E'`;\n",
    "- 30001–50000 — `'D'`;\n",
    "- 50001–200000 — `'C'`;\n",
    "- 200001–1000000 — `'B'`;\n",
    "- 1000001 и выше — `'A'`.\n",
    "\n",
    "\n",
    "**Например, кредитополучателю с доходом 25000 нужно назначить категорию `'E'`, а клиенту, получающему 235000, — `'B'`. Используйте собственную функцию с именем `categorize_income()` и метод `apply()`.**"
   ]
  },
  {
   "cell_type": "code",
   "execution_count": 18,
   "id": "78965238",
   "metadata": {
    "deletable": false,
    "id": "78965238"
   },
   "outputs": [],
   "source": [
    "def categorize_income(income):\n",
    "    try:\n",
    "        if 0 <= income <= 30000:\n",
    "            return 'E'\n",
    "        elif 30001 <= income <= 50000:\n",
    "            return 'D'\n",
    "        elif 50001 <= income <= 200000:\n",
    "            return 'C'\n",
    "        elif 200001 <= income <= 1000000:\n",
    "            return 'B'\n",
    "        elif income >= 1000001:\n",
    "            return 'A'\n",
    "    except:\n",
    "        pass"
   ]
  },
  {
   "cell_type": "code",
   "execution_count": 19,
   "id": "0980ada1",
   "metadata": {
    "deletable": false,
    "id": "0980ada1"
   },
   "outputs": [],
   "source": [
    "data['total_income_category'] = data['total_income'].apply(categorize_income)"
   ]
  },
  {
   "cell_type": "markdown",
   "id": "9917bba0",
   "metadata": {
    "deletable": false,
    "editable": false,
    "id": "9917bba0"
   },
   "source": [
    "**Задание 17. Выведите на экран перечень уникальных целей взятия кредита из столбца `purpose`.**"
   ]
  },
  {
   "cell_type": "code",
   "execution_count": 20,
   "id": "ee07b65e",
   "metadata": {
    "deletable": false,
    "id": "ee07b65e",
    "outputId": "673c12d9-7d7e-4ae0-9812-c622c89dd244"
   },
   "outputs": [
    {
     "data": {
      "text/plain": [
       "array(['покупка жилья', 'приобретение автомобиля',\n",
       "       'дополнительное образование', 'сыграть свадьбу',\n",
       "       'операции с жильем', 'образование', 'на проведение свадьбы',\n",
       "       'покупка жилья для семьи', 'покупка недвижимости',\n",
       "       'покупка коммерческой недвижимости', 'покупка жилой недвижимости',\n",
       "       'строительство собственной недвижимости', 'недвижимость',\n",
       "       'строительство недвижимости', 'на покупку подержанного автомобиля',\n",
       "       'на покупку своего автомобиля',\n",
       "       'операции с коммерческой недвижимостью',\n",
       "       'строительство жилой недвижимости', 'жилье',\n",
       "       'операции со своей недвижимостью', 'автомобили',\n",
       "       'заняться образованием', 'сделка с подержанным автомобилем',\n",
       "       'получение образования', 'автомобиль', 'свадьба',\n",
       "       'получение дополнительного образования', 'покупка своего жилья',\n",
       "       'операции с недвижимостью', 'получение высшего образования',\n",
       "       'свой автомобиль', 'сделка с автомобилем',\n",
       "       'профильное образование', 'высшее образование',\n",
       "       'покупка жилья для сдачи', 'на покупку автомобиля', 'ремонт жилью',\n",
       "       'заняться высшим образованием'], dtype=object)"
      ]
     },
     "execution_count": 20,
     "metadata": {},
     "output_type": "execute_result"
    }
   ],
   "source": [
    "data['purpose'].unique()"
   ]
  },
  {
   "cell_type": "markdown",
   "id": "52b79d56",
   "metadata": {
    "deletable": false,
    "editable": false,
    "id": "52b79d56"
   },
   "source": [
    "**Задание 18. Создайте функцию, которая на основании данных из столбца `purpose` сформирует новый столбец `purpose_category`, в который войдут следующие категории:**\n",
    "\n",
    "- `'операции с автомобилем'`,\n",
    "- `'операции с недвижимостью'`,\n",
    "- `'проведение свадьбы'`,\n",
    "- `'получение образования'`.\n",
    "\n",
    "**Например, если в столбце `purpose` находится подстрока `'на покупку автомобиля'`, то в столбце `purpose_category` должна появиться строка `'операции с автомобилем'`.**\n",
    "\n",
    "**Используйте собственную функцию с именем `categorize_purpose()` и метод `apply()`. Изучите данные в столбце `purpose` и определите, какие подстроки помогут вам правильно определить категорию.**"
   ]
  },
  {
   "cell_type": "code",
   "execution_count": 21,
   "id": "be41da5d",
   "metadata": {
    "deletable": false,
    "id": "be41da5d"
   },
   "outputs": [],
   "source": [
    "def categorize_purpose(row):\n",
    "    try:\n",
    "        if 'автом' in row:\n",
    "            return 'операции с автомобилем'\n",
    "        elif 'жил' in row or 'недвиж' in row:\n",
    "            return 'операции с недвижимостью'\n",
    "        elif 'свад' in row:\n",
    "            return 'проведение свадьбы'\n",
    "        elif 'образов' in row:\n",
    "            return 'получение образования'\n",
    "    except:\n",
    "        return 'нет категории'"
   ]
  },
  {
   "cell_type": "code",
   "execution_count": 22,
   "id": "94c4a19a",
   "metadata": {
    "deletable": false,
    "id": "94c4a19a"
   },
   "outputs": [],
   "source": [
    "data['purpose_category'] = data['purpose'].apply(categorize_purpose)"
   ]
  },
  {
   "cell_type": "markdown",
   "id": "e434c251",
   "metadata": {},
   "source": [
    "<div class=\"alert alert-success\">\n",
    "<h2> Комментарий ревьюера <a class=\"tocSkip\"> </h2>\n",
    "\n",
    "<b>Отлично!✅:</b> Илона, молодец, отлично выполнила предобработку!\n",
    "</div>"
   ]
  },
  {
   "cell_type": "markdown",
   "id": "3d596c34",
   "metadata": {
    "deletable": false,
    "editable": false,
    "id": "3d596c34"
   },
   "source": [
    "### Шаг 3. Исследуйте данные и ответьте на вопросы"
   ]
  },
  {
   "cell_type": "markdown",
   "id": "648db036",
   "metadata": {
    "deletable": false,
    "editable": false,
    "id": "648db036"
   },
   "source": [
    "#### 3.1 Есть ли зависимость между количеством детей и возвратом кредита в срок?"
   ]
  },
  {
   "cell_type": "code",
   "execution_count": 26,
   "id": "7fcff25e",
   "metadata": {
    "deletable": false,
    "id": "7fcff25e"
   },
   "outputs": [
    {
     "name": "stdout",
     "output_type": "stream",
     "text": [
      "[1 0 3 2 4 5]\n",
      "children\n",
      "0    14091\n",
      "1     4808\n",
      "2     2052\n",
      "3      330\n",
      "4       41\n",
      "5        9\n",
      "Name: debt, dtype: int64\n"
     ]
    },
    {
     "data": {
      "text/html": [
       "<div>\n",
       "<style scoped>\n",
       "    .dataframe tbody tr th:only-of-type {\n",
       "        vertical-align: middle;\n",
       "    }\n",
       "\n",
       "    .dataframe tbody tr th {\n",
       "        vertical-align: top;\n",
       "    }\n",
       "\n",
       "    .dataframe thead th {\n",
       "        text-align: right;\n",
       "    }\n",
       "</style>\n",
       "<table border=\"1\" class=\"dataframe\">\n",
       "  <thead>\n",
       "    <tr style=\"text-align: right;\">\n",
       "      <th></th>\n",
       "      <th></th>\n",
       "      <th></th>\n",
       "      <th>debt</th>\n",
       "    </tr>\n",
       "    <tr>\n",
       "      <th>children_category</th>\n",
       "      <th>children</th>\n",
       "      <th>debt</th>\n",
       "      <th></th>\n",
       "    </tr>\n",
       "  </thead>\n",
       "  <tbody>\n",
       "    <tr>\n",
       "      <th rowspan=\"2\" valign=\"top\">б/д</th>\n",
       "      <th rowspan=\"2\" valign=\"top\">0</th>\n",
       "      <th>0</th>\n",
       "      <td>13028</td>\n",
       "    </tr>\n",
       "    <tr>\n",
       "      <th>1</th>\n",
       "      <td>1063</td>\n",
       "    </tr>\n",
       "    <tr>\n",
       "      <th rowspan=\"6\" valign=\"top\">до 3х</th>\n",
       "      <th rowspan=\"2\" valign=\"top\">1</th>\n",
       "      <th>0</th>\n",
       "      <td>4364</td>\n",
       "    </tr>\n",
       "    <tr>\n",
       "      <th>1</th>\n",
       "      <td>444</td>\n",
       "    </tr>\n",
       "    <tr>\n",
       "      <th rowspan=\"2\" valign=\"top\">2</th>\n",
       "      <th>0</th>\n",
       "      <td>1858</td>\n",
       "    </tr>\n",
       "    <tr>\n",
       "      <th>1</th>\n",
       "      <td>194</td>\n",
       "    </tr>\n",
       "    <tr>\n",
       "      <th rowspan=\"2\" valign=\"top\">3</th>\n",
       "      <th>0</th>\n",
       "      <td>303</td>\n",
       "    </tr>\n",
       "    <tr>\n",
       "      <th>1</th>\n",
       "      <td>27</td>\n",
       "    </tr>\n",
       "    <tr>\n",
       "      <th rowspan=\"3\" valign=\"top\">м/д</th>\n",
       "      <th rowspan=\"2\" valign=\"top\">4</th>\n",
       "      <th>0</th>\n",
       "      <td>37</td>\n",
       "    </tr>\n",
       "    <tr>\n",
       "      <th>1</th>\n",
       "      <td>4</td>\n",
       "    </tr>\n",
       "    <tr>\n",
       "      <th>5</th>\n",
       "      <th>0</th>\n",
       "      <td>9</td>\n",
       "    </tr>\n",
       "  </tbody>\n",
       "</table>\n",
       "</div>"
      ],
      "text/plain": [
       "                                  debt\n",
       "children_category children debt       \n",
       "б/д               0        0     13028\n",
       "                           1      1063\n",
       "до 3х             1        0      4364\n",
       "                           1       444\n",
       "                  2        0      1858\n",
       "                           1       194\n",
       "                  3        0       303\n",
       "                           1        27\n",
       "м/д               4        0        37\n",
       "                           1         4\n",
       "                  5        0         9"
      ]
     },
     "metadata": {},
     "output_type": "display_data"
    },
    {
     "data": {
      "text/html": [
       "<div>\n",
       "<style scoped>\n",
       "    .dataframe tbody tr th:only-of-type {\n",
       "        vertical-align: middle;\n",
       "    }\n",
       "\n",
       "    .dataframe tbody tr th {\n",
       "        vertical-align: top;\n",
       "    }\n",
       "\n",
       "    .dataframe thead tr th {\n",
       "        text-align: left;\n",
       "    }\n",
       "\n",
       "    .dataframe thead tr:last-of-type th {\n",
       "        text-align: right;\n",
       "    }\n",
       "</style>\n",
       "<table border=\"1\" class=\"dataframe\">\n",
       "  <thead>\n",
       "    <tr>\n",
       "      <th></th>\n",
       "      <th colspan=\"3\" halign=\"left\">debt</th>\n",
       "    </tr>\n",
       "    <tr>\n",
       "      <th></th>\n",
       "      <th>count</th>\n",
       "      <th>sum</th>\n",
       "      <th>mean</th>\n",
       "    </tr>\n",
       "    <tr>\n",
       "      <th>children</th>\n",
       "      <th></th>\n",
       "      <th></th>\n",
       "      <th></th>\n",
       "    </tr>\n",
       "  </thead>\n",
       "  <tbody>\n",
       "    <tr>\n",
       "      <th>0</th>\n",
       "      <td>14091</td>\n",
       "      <td>1063</td>\n",
       "      <td>0.075438</td>\n",
       "    </tr>\n",
       "    <tr>\n",
       "      <th>1</th>\n",
       "      <td>4808</td>\n",
       "      <td>444</td>\n",
       "      <td>0.092346</td>\n",
       "    </tr>\n",
       "    <tr>\n",
       "      <th>2</th>\n",
       "      <td>2052</td>\n",
       "      <td>194</td>\n",
       "      <td>0.094542</td>\n",
       "    </tr>\n",
       "    <tr>\n",
       "      <th>3</th>\n",
       "      <td>330</td>\n",
       "      <td>27</td>\n",
       "      <td>0.081818</td>\n",
       "    </tr>\n",
       "    <tr>\n",
       "      <th>4</th>\n",
       "      <td>41</td>\n",
       "      <td>4</td>\n",
       "      <td>0.097561</td>\n",
       "    </tr>\n",
       "    <tr>\n",
       "      <th>5</th>\n",
       "      <td>9</td>\n",
       "      <td>0</td>\n",
       "      <td>0.000000</td>\n",
       "    </tr>\n",
       "  </tbody>\n",
       "</table>\n",
       "</div>"
      ],
      "text/plain": [
       "           debt                \n",
       "          count   sum      mean\n",
       "children                       \n",
       "0         14091  1063  0.075438\n",
       "1          4808   444  0.092346\n",
       "2          2052   194  0.094542\n",
       "3           330    27  0.081818\n",
       "4            41     4  0.097561\n",
       "5             9     0  0.000000"
      ]
     },
     "metadata": {},
     "output_type": "display_data"
    }
   ],
   "source": [
    "# Ваш код будет здесь. Вы можете создавать новые ячейки.\n",
    "# нас интересуют 2 столбца: children и debt. Вопрос стоит в том, влияет ли КОЛИЧЕСТВО детей на задолженность\n",
    "# еще раз посмотрим на уникальные значения в столбце детей\n",
    "print(data['children'].unique())\n",
    "# мы можем подсчитать количество и процент задолженностей по категориям (бездетные, от 1 до 3 - малодетные, многодетные) или по\n",
    "# таким категориям(бездетные, 1 ребенок, 2 ребенка, 3 ребенка и т. д.)\n",
    "# для начала разобъем на 3 категории\n",
    "def categorize_family(quantity):\n",
    "    if quantity == 0:\n",
    "        return 'б/д'\n",
    "    if 1 <= quantity <= 3:\n",
    "        return 'до 3х'\n",
    "    return 'м/д'\n",
    "data['children_category'] = data['children'].apply(categorize_family)\n",
    "# подсчитаем сколько всего строк по кличеству детей\n",
    "group_children = data.groupby('children')['debt'].count()\n",
    "print(group_children)\n",
    "# создадим сводную таблицу, в которой будет наглядно показано семейная категория, \n",
    "# количество детей, количество строк по наличию или отсутствию задолженности\n",
    "data_count_children = data.groupby(['children_category', 'children', 'debt']).agg({'debt':'count'})\n",
    "display(data_count_children)\n",
    "# создадим табличку, в которой будет видно количество людей, которые имели или не имели задолженность и конверсия \n",
    "data_grouped = data.groupby('children').agg({'debt': ['count', 'sum', 'mean']})\n",
    "display(data_grouped)"
   ]
  },
  {
   "cell_type": "markdown",
   "id": "7f2e63b7",
   "metadata": {},
   "source": [
    "<div class=\"alert alert-success\">\n",
    "<h2> Комментарий ревьюера <a class=\"tocSkip\"> </h2>\n",
    "\n",
    "<b>Отлично!✅:</b> Cупер, верно сгруппировала данные для анализа!\n",
    "\n",
    "</div>"
   ]
  },
  {
   "cell_type": "markdown",
   "id": "7b28d882",
   "metadata": {},
   "source": [
    "<div class=\"alert alert-warning\">\n",
    "    <h2> Комментарий ревьюера <a class=\"tocSkip\"> </h2>\n",
    "    \n",
    "<b>Можно лучше⚠️:</b> Рекомендую использовать функцию `display()` вместо `print()` для вывода таблиц в Jupyter Notebook.\n",
    "</div>"
   ]
  },
  {
   "cell_type": "markdown",
   "id": "713f7c67",
   "metadata": {},
   "source": [
    "<div class=\"alert alert-success\">\n",
    "<h2> Комментарий ревьюера v2<a class=\"tocSkip\"> </h2>\n",
    "\n",
    "<b>Отлично!✅:</b> Совсем другой вид:)\n",
    "\n",
    "</div>"
   ]
  },
  {
   "cell_type": "markdown",
   "id": "2eb9088e",
   "metadata": {
    "deletable": false,
    "id": "2eb9088e"
   },
   "source": [
    "**Вывод:** \n",
    "1) Среди количества бездетных клиентов только у 7,5% есть задолженность по кредитам.\n",
    "2) У многодетных клиентов задолженность составляет 9,7% (это самый высокий показатель, но что интересно, у клиентов с 5 детьми вообще нет задолженностей).\n",
    "3) Клиенты, которые имеют от 1 до 3 детей примерно в 90% случаях не имеют задолженностей по кредитам (если в семье 1 ребенок, то задолженность равна 9,2%, если 2 ребенка - 9,4%, если 3 ребенка - 8,1%).\n",
    "На основании результатов этого исследования было выяснено, что количество детей практически не влияет на задолженность по возврату кредитов. От общего числа всех клиентов около 8% людей имеют задолженность перед банком.\n",
    "\n",
    "<div class=\"alert alert-info\"> \n",
    "    <b>Комментарий студента: \n",
    "    \n",
    "</b>\n",
    "В категориях с количеством детей от 3 до 5 представлено наименьшее число клиентов (в сумме их 380 человек, что составляет менее 5% от общего числа). Полученные по ним данные не могут целостно отражать зависимость задолженности по кредитам от количества детей. \n",
    "Следует более подробно изучить те категории, в которых выборка клиентов более обширна. К таким категориям относятся бездетные (14091 человек), родители 1 (4808 человек) и 2х детей (2052 человек). Люди, у которых на данный момент времени нет детей, имеют тенденцию к возврату кредита в срок, у них самый меньший показатель задолженности.\n",
    "С появлением 1 ребенка задолженность составляет уже 9,2%, а у родителей 2х детей процент невозврата в срок выростает до 9,4%\n",
    "Таким образом, гипотеза о том, что с увеличением числа детей в семье возрастает и задолженность по кредитам может быть подтверждена. Однако следует принять во внимание, что имея категории, несоразмерные по числу клиентов, на данный момент сложно определить эту зависимость. Необходимо проанализировать большее число клиентов с 3-5 детьми.\n",
    "</div>\n"
   ]
  },
  {
   "cell_type": "markdown",
   "id": "9d2d465e",
   "metadata": {},
   "source": [
    "<div class=\"alert alert-success\">\n",
    "<h2> Комментарий ревьюера v2<a class=\"tocSkip\"> </h2>\n",
    "\n",
    "<b>Отлично!✅:</b> Умничка, верно дополнила!\n",
    "\n",
    "</div>"
   ]
  },
  {
   "cell_type": "markdown",
   "id": "f08886f5",
   "metadata": {},
   "source": [
    "<div class=\"alert alert-warning\">\n",
    "    <h2> Комментарий ревьюера <a class=\"tocSkip\"> </h2>\n",
    "    \n",
    "<b>Можно лучше⚠️:</b> Стоит обратить внимание на несбалансированность выборок. Поэтому лучше, для выявления зависимости, сравнить самые многочисленные категории - семьи с 0, 1 и 2 детьми. У тебя не хватает общего вывода, если мы все обобщим то, что наблюдаем с ростом количества детей в семьях?\n",
    "</div>"
   ]
  },
  {
   "cell_type": "markdown",
   "id": "74c9b3a7",
   "metadata": {
    "deletable": false,
    "editable": false,
    "id": "74c9b3a7"
   },
   "source": [
    "#### 3.2 Есть ли зависимость между семейным положением и возвратом кредита в срок?"
   ]
  },
  {
   "cell_type": "code",
   "execution_count": 27,
   "id": "8098ab3b",
   "metadata": {
    "deletable": false,
    "id": "8098ab3b"
   },
   "outputs": [
    {
     "name": "stdout",
     "output_type": "stream",
     "text": [
      "['женат / замужем' 'гражданский брак' 'вдовец / вдова' 'в разводе'\n",
      " 'Не женат / не замужем']\n",
      "family_status\n",
      "Не женат / не замужем     2796\n",
      "в разводе                 1189\n",
      "вдовец / вдова             951\n",
      "гражданский брак          4134\n",
      "женат / замужем          12261\n",
      "Name: debt, dtype: int64\n"
     ]
    },
    {
     "data": {
      "text/html": [
       "<div>\n",
       "<style scoped>\n",
       "    .dataframe tbody tr th:only-of-type {\n",
       "        vertical-align: middle;\n",
       "    }\n",
       "\n",
       "    .dataframe tbody tr th {\n",
       "        vertical-align: top;\n",
       "    }\n",
       "\n",
       "    .dataframe thead th {\n",
       "        text-align: right;\n",
       "    }\n",
       "</style>\n",
       "<table border=\"1\" class=\"dataframe\">\n",
       "  <thead>\n",
       "    <tr style=\"text-align: right;\">\n",
       "      <th></th>\n",
       "      <th></th>\n",
       "      <th>debt</th>\n",
       "    </tr>\n",
       "    <tr>\n",
       "      <th>family_status</th>\n",
       "      <th>debt</th>\n",
       "      <th></th>\n",
       "    </tr>\n",
       "  </thead>\n",
       "  <tbody>\n",
       "    <tr>\n",
       "      <th rowspan=\"2\" valign=\"top\">Не женат / не замужем</th>\n",
       "      <th>0</th>\n",
       "      <td>2523</td>\n",
       "    </tr>\n",
       "    <tr>\n",
       "      <th>1</th>\n",
       "      <td>273</td>\n",
       "    </tr>\n",
       "    <tr>\n",
       "      <th rowspan=\"2\" valign=\"top\">в разводе</th>\n",
       "      <th>0</th>\n",
       "      <td>1105</td>\n",
       "    </tr>\n",
       "    <tr>\n",
       "      <th>1</th>\n",
       "      <td>84</td>\n",
       "    </tr>\n",
       "    <tr>\n",
       "      <th rowspan=\"2\" valign=\"top\">вдовец / вдова</th>\n",
       "      <th>0</th>\n",
       "      <td>888</td>\n",
       "    </tr>\n",
       "    <tr>\n",
       "      <th>1</th>\n",
       "      <td>63</td>\n",
       "    </tr>\n",
       "    <tr>\n",
       "      <th rowspan=\"2\" valign=\"top\">гражданский брак</th>\n",
       "      <th>0</th>\n",
       "      <td>3749</td>\n",
       "    </tr>\n",
       "    <tr>\n",
       "      <th>1</th>\n",
       "      <td>385</td>\n",
       "    </tr>\n",
       "    <tr>\n",
       "      <th rowspan=\"2\" valign=\"top\">женат / замужем</th>\n",
       "      <th>0</th>\n",
       "      <td>11334</td>\n",
       "    </tr>\n",
       "    <tr>\n",
       "      <th>1</th>\n",
       "      <td>927</td>\n",
       "    </tr>\n",
       "  </tbody>\n",
       "</table>\n",
       "</div>"
      ],
      "text/plain": [
       "                             debt\n",
       "family_status         debt       \n",
       "Не женат / не замужем 0      2523\n",
       "                      1       273\n",
       "в разводе             0      1105\n",
       "                      1        84\n",
       "вдовец / вдова        0       888\n",
       "                      1        63\n",
       "гражданский брак      0      3749\n",
       "                      1       385\n",
       "женат / замужем       0     11334\n",
       "                      1       927"
      ]
     },
     "metadata": {},
     "output_type": "display_data"
    },
    {
     "data": {
      "text/html": [
       "<div>\n",
       "<style scoped>\n",
       "    .dataframe tbody tr th:only-of-type {\n",
       "        vertical-align: middle;\n",
       "    }\n",
       "\n",
       "    .dataframe tbody tr th {\n",
       "        vertical-align: top;\n",
       "    }\n",
       "\n",
       "    .dataframe thead tr th {\n",
       "        text-align: left;\n",
       "    }\n",
       "\n",
       "    .dataframe thead tr:last-of-type th {\n",
       "        text-align: right;\n",
       "    }\n",
       "</style>\n",
       "<table border=\"1\" class=\"dataframe\">\n",
       "  <thead>\n",
       "    <tr>\n",
       "      <th></th>\n",
       "      <th colspan=\"3\" halign=\"left\">debt</th>\n",
       "    </tr>\n",
       "    <tr>\n",
       "      <th></th>\n",
       "      <th>count</th>\n",
       "      <th>sum</th>\n",
       "      <th>mean</th>\n",
       "    </tr>\n",
       "    <tr>\n",
       "      <th>family_status</th>\n",
       "      <th></th>\n",
       "      <th></th>\n",
       "      <th></th>\n",
       "    </tr>\n",
       "  </thead>\n",
       "  <tbody>\n",
       "    <tr>\n",
       "      <th>Не женат / не замужем</th>\n",
       "      <td>2796</td>\n",
       "      <td>273</td>\n",
       "      <td>0.097639</td>\n",
       "    </tr>\n",
       "    <tr>\n",
       "      <th>в разводе</th>\n",
       "      <td>1189</td>\n",
       "      <td>84</td>\n",
       "      <td>0.070648</td>\n",
       "    </tr>\n",
       "    <tr>\n",
       "      <th>вдовец / вдова</th>\n",
       "      <td>951</td>\n",
       "      <td>63</td>\n",
       "      <td>0.066246</td>\n",
       "    </tr>\n",
       "    <tr>\n",
       "      <th>гражданский брак</th>\n",
       "      <td>4134</td>\n",
       "      <td>385</td>\n",
       "      <td>0.093130</td>\n",
       "    </tr>\n",
       "    <tr>\n",
       "      <th>женат / замужем</th>\n",
       "      <td>12261</td>\n",
       "      <td>927</td>\n",
       "      <td>0.075606</td>\n",
       "    </tr>\n",
       "  </tbody>\n",
       "</table>\n",
       "</div>"
      ],
      "text/plain": [
       "                        debt               \n",
       "                       count  sum      mean\n",
       "family_status                              \n",
       "Не женат / не замужем   2796  273  0.097639\n",
       "в разводе               1189   84  0.070648\n",
       "вдовец / вдова           951   63  0.066246\n",
       "гражданский брак        4134  385  0.093130\n",
       "женат / замужем        12261  927  0.075606"
      ]
     },
     "metadata": {},
     "output_type": "display_data"
    }
   ],
   "source": [
    "# Ваш код будет здесь. Вы можете создавать новые ячейки.\n",
    "# ход исследования будет ориентироваться по аналогии с предыдущим заданием\n",
    "# нас интересуют 2 столбца: family_status и debt. \n",
    "print(data['family_status'].unique())\n",
    "# можно выделить 5 категорий: 'женат / замужем', 'гражданский брак', 'вдовец / вдова', 'в разводе', 'Не женат / не замужем'\n",
    "# сгруппируем количество клиентов по каждой категории\n",
    "group_family = data.groupby('family_status')['debt'].count()\n",
    "print(group_family)\n",
    "# создадим сводную таблицу, в которой будет наглядно показано семейное положение и факт наличия или отсутствия задолженности\n",
    "data_count_family = data.groupby(['family_status', 'debt']).agg({'debt':'count'})\n",
    "display(data_count_family)\n",
    "# создадим табличку, в которой будет видно количество людей, которые имели или не имели задолженность и конверсия \n",
    "data_grouped_f_status = data.groupby('family_status').agg({'debt': ['count', 'sum', 'mean']})\n",
    "display(data_grouped_f_status)"
   ]
  },
  {
   "cell_type": "markdown",
   "id": "c389ca63",
   "metadata": {
    "deletable": false,
    "id": "c389ca63"
   },
   "source": [
    "**Вывод:**\n",
    "1) От общего количества клиентов особо выделяются 2 категории: вдовцы и женатые. Для женатых характерно то, что в этой группе наибольшее количество людей (12261), параллельно с этим можно выделить то, что среди них у 7,5% есть задолженность. Что касается овдовевших потребителей - их наименьшее количество среди всех участников выбоки (951). При этом только 6,6% имеют задолженность. Это самый низкий показатель долга по семейному статусу.\n",
    "2) Доля незамужних клиентов-должников составлет 9,7% (самый высокий показатель из всех), доля разведенных клиентов с показателем задолженности 1 составляет 7,0%, а доля людей в гражданском браке - 9,3%.\n",
    "Согласно результатам, наименьший показалель задолженности наблюдается у вдовцов/вдов, а самый высокий - у незамужних клиентов. Разница между ними составляет 3,3%. В основном, семейное положение не влияет на задолженность. От общего числа всех клиентов около 8% людей имеют задолженность перед банком."
   ]
  },
  {
   "cell_type": "markdown",
   "id": "2102290c",
   "metadata": {},
   "source": [
    "<div class=\"alert alert-success\">\n",
    "<h2> Комментарий ревьюера <a class=\"tocSkip\"> </h2>\n",
    "\n",
    "<b>Отлично!✅:</b> Но все же, можем сказать, что заемщики состоящие или состоявшие в браке реже допускают просрочку!\n",
    "\n",
    "</div>"
   ]
  },
  {
   "cell_type": "markdown",
   "id": "9529de68",
   "metadata": {
    "deletable": false,
    "editable": false,
    "id": "9529de68"
   },
   "source": [
    "#### 3.3 Есть ли зависимость между уровнем дохода и возвратом кредита в срок?"
   ]
  },
  {
   "cell_type": "code",
   "execution_count": 28,
   "id": "8787f44a",
   "metadata": {
    "deletable": false,
    "id": "8787f44a"
   },
   "outputs": [
    {
     "data": {
      "text/html": [
       "<div>\n",
       "<style scoped>\n",
       "    .dataframe tbody tr th:only-of-type {\n",
       "        vertical-align: middle;\n",
       "    }\n",
       "\n",
       "    .dataframe tbody tr th {\n",
       "        vertical-align: top;\n",
       "    }\n",
       "\n",
       "    .dataframe thead tr th {\n",
       "        text-align: left;\n",
       "    }\n",
       "\n",
       "    .dataframe thead tr:last-of-type th {\n",
       "        text-align: right;\n",
       "    }\n",
       "</style>\n",
       "<table border=\"1\" class=\"dataframe\">\n",
       "  <thead>\n",
       "    <tr>\n",
       "      <th></th>\n",
       "      <th colspan=\"3\" halign=\"left\">debt</th>\n",
       "    </tr>\n",
       "    <tr>\n",
       "      <th></th>\n",
       "      <th>count</th>\n",
       "      <th>sum</th>\n",
       "      <th>mean</th>\n",
       "    </tr>\n",
       "    <tr>\n",
       "      <th>total_income_category</th>\n",
       "      <th></th>\n",
       "      <th></th>\n",
       "      <th></th>\n",
       "    </tr>\n",
       "  </thead>\n",
       "  <tbody>\n",
       "    <tr>\n",
       "      <th>A</th>\n",
       "      <td>25</td>\n",
       "      <td>2</td>\n",
       "      <td>0.080000</td>\n",
       "    </tr>\n",
       "    <tr>\n",
       "      <th>B</th>\n",
       "      <td>5014</td>\n",
       "      <td>354</td>\n",
       "      <td>0.070602</td>\n",
       "    </tr>\n",
       "    <tr>\n",
       "      <th>C</th>\n",
       "      <td>15921</td>\n",
       "      <td>1353</td>\n",
       "      <td>0.084982</td>\n",
       "    </tr>\n",
       "    <tr>\n",
       "      <th>D</th>\n",
       "      <td>349</td>\n",
       "      <td>21</td>\n",
       "      <td>0.060172</td>\n",
       "    </tr>\n",
       "    <tr>\n",
       "      <th>E</th>\n",
       "      <td>22</td>\n",
       "      <td>2</td>\n",
       "      <td>0.090909</td>\n",
       "    </tr>\n",
       "  </tbody>\n",
       "</table>\n",
       "</div>"
      ],
      "text/plain": [
       "                        debt                \n",
       "                       count   sum      mean\n",
       "total_income_category                       \n",
       "A                         25     2  0.080000\n",
       "B                       5014   354  0.070602\n",
       "C                      15921  1353  0.084982\n",
       "D                        349    21  0.060172\n",
       "E                         22     2  0.090909"
      ]
     },
     "metadata": {},
     "output_type": "display_data"
    }
   ],
   "source": [
    "# Ваш код будет здесь. Вы можете создавать новые ячейки.\n",
    "# нас интересуют 2 столбца: total_income и debt. Поскольку в первой части работы мы разбили доходы клиентов по категориям, то \n",
    "# сейчас будем также пользоваться столбцом total_income_category, где определяется уровень дохода:\n",
    "# 0–30000 — 'E'; 30001–50000 — 'D'; 50001–200000 — 'C'; 200001–1000000 — 'B'; 1000001 и выше — 'A'.\n",
    "# создадим табличку, в которой будут видны уровень дохода, количество человек в каждй группе,\n",
    "# количество людей, имеющих задолженность и конверсию\n",
    "data_count_total = data.groupby('total_income_category').agg({'debt': ['count', 'sum', 'mean']})\n",
    "display(data_count_total)"
   ]
  },
  {
   "cell_type": "markdown",
   "id": "6dd14b57",
   "metadata": {
    "deletable": false,
    "id": "6dd14b57"
   },
   "source": [
    "**Вывод:** \n",
    "По данным итоговой таблицы можно сделать следующие выводы:\n",
    "1) Доля клиентов с доходом уровня С имеет средний зароботок и доля задолженности составляет 8,5% от их общего числа в группе (самая большая доля относительно всего числа - 15921 клиент).\n",
    "2) Следующей по количеству (5014 клиентов) является группа с доходом В (7,0% задолженности)\n",
    "3) Самые маленькие доли клиентов - люди с уровнем дохода А и Е (у них процент задолженности 8,0% и 9,0% соответсвенно)\n",
    "4) Процент задолженностей по кредиту у клиентов с уровнем дохода D минимален - 6,0%\n",
    "Таким образом, если рассматривать все 5 категорий вместе, то уровень дохода почти не влияет на степень задолженности. Также внимание привлекает практически одинаковый процент задолженности у клиентов с доходом А и Е. От общего числа всех клиентов около 8% людей имеют задолженность перед банком.\n",
    "\n",
    "<div class=\"alert alert-info\"> \n",
    "    <b>Комментарий студента: \n",
    "    \n",
    "</b>\n",
    "Для подтверждения или опровержения гипотезы зависимости уровня дохода и задолженности, более подробно рассмотрим группы клиентов с доходом В и С, поскольку они являются самыми многочисленными и результат их анализа может отличаться от предыдущего вывода. Категория с уровнем дохода от 50.001 до 200.000 - самая большая (15921 человек с процентом задолженности 8,5%), в категории с доходом от 200.001 до 1.000.0000 процент составил 7,0%, но в ней практически в 3 раза меньше клиентов. Даже учитывая это, можно предположить, что с увеличением уровня дохода снижается % людей с кредитным долгом. Для более точного исследования необходимо проанализировать целевые группы, соразмерные по охвату.\n",
    "    \n",
    "    \n",
    "</div>"
   ]
  },
  {
   "cell_type": "markdown",
   "id": "8123902c",
   "metadata": {},
   "source": [
    "<div class=\"alert alert-success\">\n",
    "<h2> Комментарий ревьюера v2<a class=\"tocSkip\"> </h2>\n",
    "\n",
    "<b>Отлично!✅:</b> Согласна, чем выше доход, тем надежнее заемщик!\n",
    "\n",
    "</div>"
   ]
  },
  {
   "cell_type": "markdown",
   "id": "0fd3d1e6",
   "metadata": {},
   "source": [
    "<div class=\"alert alert-warning\">\n",
    "    <h2> Комментарий ревьюера <a class=\"tocSkip\"> </h2>\n",
    "    \n",
    "<b>Можно лучше⚠️:</b> Илона, стоит обратить внимание на несбалансированность выборок. Сравни, пожалуйста, две самые многочисленные выборки B и C для выявления зависимости.\n",
    "</div>"
   ]
  },
  {
   "cell_type": "markdown",
   "id": "1dcc9b12",
   "metadata": {
    "deletable": false,
    "editable": false,
    "id": "1dcc9b12"
   },
   "source": [
    "#### 3.4 Как разные цели кредита влияют на его возврат в срок?"
   ]
  },
  {
   "cell_type": "code",
   "execution_count": 31,
   "id": "c602bc8b",
   "metadata": {
    "deletable": false,
    "id": "c602bc8b"
   },
   "outputs": [
    {
     "name": "stdout",
     "output_type": "stream",
     "text": [
      "['операции с недвижимостью' 'операции с автомобилем'\n",
      " 'получение образования' 'проведение свадьбы']\n",
      "purpose_category\n",
      "операции с автомобилем       4279\n",
      "операции с недвижимостью    10751\n",
      "получение образования        3988\n",
      "проведение свадьбы           2313\n",
      "Name: debt, dtype: int64\n"
     ]
    },
    {
     "data": {
      "text/html": [
       "<div>\n",
       "<style scoped>\n",
       "    .dataframe tbody tr th:only-of-type {\n",
       "        vertical-align: middle;\n",
       "    }\n",
       "\n",
       "    .dataframe tbody tr th {\n",
       "        vertical-align: top;\n",
       "    }\n",
       "\n",
       "    .dataframe thead th {\n",
       "        text-align: right;\n",
       "    }\n",
       "</style>\n",
       "<table border=\"1\" class=\"dataframe\">\n",
       "  <thead>\n",
       "    <tr style=\"text-align: right;\">\n",
       "      <th></th>\n",
       "      <th></th>\n",
       "      <th>debt</th>\n",
       "    </tr>\n",
       "    <tr>\n",
       "      <th>purpose_category</th>\n",
       "      <th>debt</th>\n",
       "      <th></th>\n",
       "    </tr>\n",
       "  </thead>\n",
       "  <tbody>\n",
       "    <tr>\n",
       "      <th rowspan=\"2\" valign=\"top\">операции с автомобилем</th>\n",
       "      <th>0</th>\n",
       "      <td>3879</td>\n",
       "    </tr>\n",
       "    <tr>\n",
       "      <th>1</th>\n",
       "      <td>400</td>\n",
       "    </tr>\n",
       "    <tr>\n",
       "      <th rowspan=\"2\" valign=\"top\">операции с недвижимостью</th>\n",
       "      <th>0</th>\n",
       "      <td>9971</td>\n",
       "    </tr>\n",
       "    <tr>\n",
       "      <th>1</th>\n",
       "      <td>780</td>\n",
       "    </tr>\n",
       "    <tr>\n",
       "      <th rowspan=\"2\" valign=\"top\">получение образования</th>\n",
       "      <th>0</th>\n",
       "      <td>3619</td>\n",
       "    </tr>\n",
       "    <tr>\n",
       "      <th>1</th>\n",
       "      <td>369</td>\n",
       "    </tr>\n",
       "    <tr>\n",
       "      <th rowspan=\"2\" valign=\"top\">проведение свадьбы</th>\n",
       "      <th>0</th>\n",
       "      <td>2130</td>\n",
       "    </tr>\n",
       "    <tr>\n",
       "      <th>1</th>\n",
       "      <td>183</td>\n",
       "    </tr>\n",
       "  </tbody>\n",
       "</table>\n",
       "</div>"
      ],
      "text/plain": [
       "                               debt\n",
       "purpose_category         debt      \n",
       "операции с автомобилем   0     3879\n",
       "                         1      400\n",
       "операции с недвижимостью 0     9971\n",
       "                         1      780\n",
       "получение образования    0     3619\n",
       "                         1      369\n",
       "проведение свадьбы       0     2130\n",
       "                         1      183"
      ]
     },
     "metadata": {},
     "output_type": "display_data"
    },
    {
     "data": {
      "text/html": [
       "<div>\n",
       "<style scoped>\n",
       "    .dataframe tbody tr th:only-of-type {\n",
       "        vertical-align: middle;\n",
       "    }\n",
       "\n",
       "    .dataframe tbody tr th {\n",
       "        vertical-align: top;\n",
       "    }\n",
       "\n",
       "    .dataframe thead tr th {\n",
       "        text-align: left;\n",
       "    }\n",
       "\n",
       "    .dataframe thead tr:last-of-type th {\n",
       "        text-align: right;\n",
       "    }\n",
       "</style>\n",
       "<table border=\"1\" class=\"dataframe\">\n",
       "  <thead>\n",
       "    <tr>\n",
       "      <th></th>\n",
       "      <th colspan=\"3\" halign=\"left\">debt</th>\n",
       "    </tr>\n",
       "    <tr>\n",
       "      <th></th>\n",
       "      <th>count</th>\n",
       "      <th>sum</th>\n",
       "      <th>mean</th>\n",
       "    </tr>\n",
       "    <tr>\n",
       "      <th>purpose_category</th>\n",
       "      <th></th>\n",
       "      <th></th>\n",
       "      <th></th>\n",
       "    </tr>\n",
       "  </thead>\n",
       "  <tbody>\n",
       "    <tr>\n",
       "      <th>операции с автомобилем</th>\n",
       "      <td>4279</td>\n",
       "      <td>400</td>\n",
       "      <td>0.093480</td>\n",
       "    </tr>\n",
       "    <tr>\n",
       "      <th>операции с недвижимостью</th>\n",
       "      <td>10751</td>\n",
       "      <td>780</td>\n",
       "      <td>0.072551</td>\n",
       "    </tr>\n",
       "    <tr>\n",
       "      <th>получение образования</th>\n",
       "      <td>3988</td>\n",
       "      <td>369</td>\n",
       "      <td>0.092528</td>\n",
       "    </tr>\n",
       "    <tr>\n",
       "      <th>проведение свадьбы</th>\n",
       "      <td>2313</td>\n",
       "      <td>183</td>\n",
       "      <td>0.079118</td>\n",
       "    </tr>\n",
       "  </tbody>\n",
       "</table>\n",
       "</div>"
      ],
      "text/plain": [
       "                           debt               \n",
       "                          count  sum      mean\n",
       "purpose_category                              \n",
       "операции с автомобилем     4279  400  0.093480\n",
       "операции с недвижимостью  10751  780  0.072551\n",
       "получение образования      3988  369  0.092528\n",
       "проведение свадьбы         2313  183  0.079118"
      ]
     },
     "metadata": {},
     "output_type": "display_data"
    }
   ],
   "source": [
    "# Ваш код будет здесь. Вы можете создавать новые ячейки.\n",
    "# ход исследования будет ориентироваться по аналогии с предыдущим заданием\n",
    "# нас интересуют 2 столбца: purpose и debt. Ранее мы создали новый столбец, где привели \n",
    "# к стандарту все сформулированные по-разному цели клиентов (purpose_category), им мы и будем пользоваться для исследования \n",
    "print(data['purpose_category'].unique())\n",
    "# сгруппируем количество клиентов по каждой из четырех цели\n",
    "group_purpose = data.groupby('purpose_category')['debt'].count()\n",
    "print(group_purpose)\n",
    "# создадим сводную таблицу, в которой будет наглядно показана цель взятия кредита и факт наличия или отсутствия задолженности\n",
    "data_count_purpose = data.groupby(['purpose_category', 'debt']).agg({'debt':'count'})\n",
    "display(data_count_purpose)\n",
    "# создадим табличку, в которой будет видно количество людей, которые имели или не имели задолженность и конверсия \n",
    "data_grouped_purpose = data.groupby('purpose_category').agg({'debt': ['count', 'sum', 'mean']})\n",
    "display(data_grouped_purpose)"
   ]
  },
  {
   "cell_type": "markdown",
   "id": "cf05ed63",
   "metadata": {
    "deletable": false,
    "id": "cf05ed63"
   },
   "source": [
    "**Вывод:** \n",
    "1) Число людей, цель которых 'операции с недвижимостью', самая многочисленная (в ней 10751 человек) с процентом должников 7,2%.\n",
    "2) Меньше всего людей интересуется получением финансов на проведение свадьбы (2313 человек), из которых 7,9% имеют долг.\n",
    "3) На покупку автомобиля и получение образования менее половины запросов от общего числа клиентов. здесь ситуация с фактом задолженности уже другая - 9,3% и 9,2%. \n",
    "Исходя из полученных данных можно предположить, что покупка автомобиля или получение образования не оказывают влияние на возврат. От общего числа всех клиентов около 8% людей имеют задолженность перед банком."
   ]
  },
  {
   "cell_type": "markdown",
   "id": "5e699ab3",
   "metadata": {},
   "source": [
    "<div class=\"alert alert-success\">\n",
    "<h2> Комментарий ревьюера <a class=\"tocSkip\"> </h2>\n",
    "\n",
    "<b>Отлично!✅:</b> Умница, верно определила более и менее рискованные для банка категории заемщиков по целям кредита!\n",
    "</div>"
   ]
  },
  {
   "cell_type": "markdown",
   "id": "46c1f10b",
   "metadata": {
    "deletable": false,
    "editable": false,
    "id": "46c1f10b"
   },
   "source": [
    "#### 3.5 Приведите возможные причины появления пропусков в исходных данных."
   ]
  },
  {
   "cell_type": "markdown",
   "id": "3697d2a9",
   "metadata": {
    "deletable": false,
    "id": "3697d2a9"
   },
   "source": [
    "*Ответ:* \n",
    "Пропуски данных были в столбцах days_employed (общий трудовой стаж в днях) и total_income (ежемесячный доход).\n",
    "Возможны несколько причин для их появления:\n",
    "1. Анкеты были неправильно заполнены самими клиентами (забыл стаж; удержание зарплаты и вследствие этого изменение ежемесячного дохода).\n",
    "2) Анкеты были неправильно заполнены сотрудником банка (забыл сохранить данные, посмотрел не в тот столбец или строку).\n",
    "3) Возможно, случился какой-то системный сбои и данные не были сохранены или строка в бумажной/электронной форме заполнения не была помечена как обязательная."
   ]
  },
  {
   "cell_type": "markdown",
   "id": "5740f24d",
   "metadata": {},
   "source": [
    "<div class=\"alert alert-success\">\n",
    "<h2> Комментарий ревьюера <a class=\"tocSkip\"> </h2>\n",
    "\n",
    "<b>Отлично!✅:</b> Совершенно верно, на пропуски в данных, в основном, оказывают влияние человеческий и технический факторы!\n",
    "</div>"
   ]
  },
  {
   "cell_type": "markdown",
   "id": "3137d257",
   "metadata": {
    "deletable": false,
    "editable": false,
    "id": "3137d257"
   },
   "source": [
    "#### 3.6 Объясните, почему заполнить пропуски медианным значением — лучшее решение для количественных переменных."
   ]
  },
  {
   "cell_type": "markdown",
   "id": "cf40012a",
   "metadata": {
    "deletable": false,
    "id": "cf40012a"
   },
   "source": [
    "*Ответ:* \n",
    "Если в количественных данных были слишком большие разрывы, то считать среднее арифметическое - не самый удачный вариант, поскольку одно значение может быть слишком маленьким, а другое слишком завышенным. Тогда не будет отражен реальный ход вещей и данные будут усредненными и неправдивыми.\n",
    "Медиана же показывает промежуточное значение для каждой подгруппы, а это значит что данные не будут противоречить друг другу и отражать действительность. "
   ]
  },
  {
   "cell_type": "markdown",
   "id": "cadd6966",
   "metadata": {},
   "source": [
    "<div class=\"alert alert-success\">\n",
    "<h2> Комментарий ревьюера <a class=\"tocSkip\"> </h2>\n",
    "\n",
    "<b>Отлично!✅:</b> Если быть точнее, то медиана менее чувствительна к выбросам!\n",
    "</div>"
   ]
  },
  {
   "cell_type": "markdown",
   "id": "57bc304e",
   "metadata": {
    "deletable": false,
    "editable": false,
    "id": "57bc304e"
   },
   "source": [
    "### Шаг 4: общий вывод."
   ]
  },
  {
   "cell_type": "markdown",
   "id": "1ab75d1c",
   "metadata": {
    "deletable": false,
    "id": "1ab75d1c"
   },
   "source": [
    "Напишите ваш общий вывод.\n",
    "Для работы были даны данные со статистикой о платёжеспособности клиентов. Для того, чтобы подготовить корректные данные нужно было провести несколько манипуляций с предобработкой:\n",
    "1) В ходе работы мы воспользовались методом info() и обнаружили, что некоторые данные в таблице пропущены (в столбцах days_employed и total_income), и поскольку ежемесячный доход у разных групп населения и профессий может отличаться, то было принято решение заполнить пропуски медианным доходом среди всех записей с тем же типом. Для этого необходимо было воспользоваться поиском комбинаций строк с уникальным значением занятости и строк с пропущенными значениями. Вместо них перезаписывались медианные значения. \n",
    "2) Также в столбце days_employed наблюдались отрицательные значения. Эти значения заменялись положительными с помощью метода abs(), он преобразует число в модуль этого числа.\n",
    "3) В столбце children наблюдались аномальные значения (количество детей не может быть -1 и вероятность иметь 20 детей тоже чрезвычайно мала), поэтому эти строки было решено убрать вовсе индексацией конкретных строк и методом drop().\n",
    "4) В столбце education требовалось с помощью метода unique() найти всевозможные написания уровня образования клиента, а с помощью метода str.lower() привели все значения к нижнему регистру, поскольку все данные были записаны строчными и большими буквами.\n",
    "5) В массиве данных с помощью комбинации методов duplicated() и sum() были найдены продублированные строки и впоследствии удалены методом drop_duplicates().\n",
    "6) Далее нам потребовалось создание цикла, в котором значения столбца total_income преобразовавалить в категории дохода клиента (A, B, C, D, E), а затем с помощью apply() мы добавили новый столбец с категориями к датафрейму.\n",
    "7) В столбце purpose методом unique()выявили, что цели взятия кредита были написаны по-разному. Их нужно было также привести к стандартному виду с помощью цикла и метода apply().\n",
    "По итогам исследования поставленно несколько гипотез, которые нужно было проверить посредством рассчетов. В ходе данного исследования было выяснено: \n",
    "1) что задолженность клиентов по каждому из заданных критериев не превышает 10%;\n",
    "2) при проведении рассчетов следует обращать внимание не только на процент долга к общему числу клиентов, но и относительно каждой группы по отдельности;\n",
    "3) семейный статус, количество детей, уровень дохода и цель кредита влияют на кредитную задолженность, но крайне незначительно. Требуются более подробные исследования, не только по каждому критерию, но и в комбинации, поскольку это может повлиять на построение модели кредитного скоринга;\n",
    "4) не стоит забывать о найденных у двух типов занятости (безработные и пенсионеры) аномально больших значений.\n"
   ]
  },
  {
   "cell_type": "markdown",
   "id": "bf200079",
   "metadata": {},
   "source": [
    "<div class=\"alert alert-success\">\n",
    "<h2> Комментарий ревьюера <a class=\"tocSkip\"> </h2>\n",
    "\n",
    "<b>Отлично!✅:</b> Здорово, что собрала все данные в общий вывод!\n",
    "</div>"
   ]
  },
  {
   "cell_type": "markdown",
   "id": "05106fc5",
   "metadata": {},
   "source": [
    "<div style=\"border:solid Chocolate 2px; padding: 40px\">\n",
    "Илона, давай подведем итоги. Ты большая молодец, что старалась и проделала такую большую работу. Шаг 1 и 2 ты выполнила без проблем, что очень хорошо:)\n",
    "    \n",
    "    Разберем над чем стоит поработать:\n",
    "    \n",
    "    1. Рекомендую:\n",
    "    - использовать функцию `display()` для вывода таблиц;\n",
    "    - учитывать несбалансированность выборок.\n",
    "    \n",
    "    Пересмотри работу и исправь ошибки. Обязательно пиши, если я могу тебе еще чем-то помочь. Удачи!)\n",
    "    \n",
    "<div class=\"alert alert-info\"> \n",
    "    <b>Комментарий студента: \n",
    "    \n",
    "</b>\n",
    "Евгения, спасибо за подробную обратную связь! Исправила вывод таблиц на экран (стало визуально удобнее и проще для понимания) и подробнее описала результаты, учитывая численность категорий для выборки.\n",
    "    \n",
    "</div>\n",
    "  "
   ]
  },
  {
   "cell_type": "markdown",
   "id": "4d9dbe41",
   "metadata": {},
   "source": [
    "<div class=\"alert alert-success\">\n",
    "<h2> Комментарий ревьюера v2<a class=\"tocSkip\"> </h2>\n",
    "\n",
    "<b>Отлично!✅:</b> Илона, привет! Молодец, оперативно и верно доработала проект. Благодарю за обратную связь, работа принята, удачи в обучении!)\n",
    "\n",
    "</div>"
   ]
  }
 ],
 "metadata": {
  "ExecuteTimeLog": [
   {
    "duration": 47,
    "start_time": "2024-03-13T16:23:52.042Z"
   },
   {
    "duration": 472,
    "start_time": "2024-03-13T16:25:03.283Z"
   },
   {
    "duration": 78,
    "start_time": "2024-03-13T16:25:22.362Z"
   },
   {
    "duration": 4,
    "start_time": "2024-03-13T16:38:39.728Z"
   },
   {
    "duration": 3,
    "start_time": "2024-03-13T16:39:18.307Z"
   },
   {
    "duration": 15,
    "start_time": "2024-03-13T16:40:18.324Z"
   },
   {
    "duration": 23,
    "start_time": "2024-03-13T16:52:01.060Z"
   },
   {
    "duration": 20,
    "start_time": "2024-03-13T16:53:40.538Z"
   },
   {
    "duration": 21,
    "start_time": "2024-03-13T16:54:06.403Z"
   },
   {
    "duration": 19,
    "start_time": "2024-03-13T16:54:21.167Z"
   },
   {
    "duration": 31,
    "start_time": "2024-03-13T16:54:34.600Z"
   },
   {
    "duration": 21,
    "start_time": "2024-03-13T16:58:38.776Z"
   },
   {
    "duration": 26,
    "start_time": "2024-03-13T17:03:46.053Z"
   },
   {
    "duration": 24,
    "start_time": "2024-03-13T17:04:45.762Z"
   },
   {
    "duration": 49,
    "start_time": "2024-03-15T11:46:32.946Z"
   },
   {
    "duration": 517,
    "start_time": "2024-03-15T11:47:12.380Z"
   },
   {
    "duration": 25,
    "start_time": "2024-03-15T11:47:23.805Z"
   },
   {
    "duration": 14,
    "start_time": "2024-03-15T11:47:29.097Z"
   },
   {
    "duration": 15,
    "start_time": "2024-03-15T11:47:36.010Z"
   },
   {
    "duration": 11,
    "start_time": "2024-03-15T11:47:40.285Z"
   },
   {
    "duration": 35,
    "start_time": "2024-03-15T11:47:44.967Z"
   },
   {
    "duration": 3,
    "start_time": "2024-03-15T11:47:47.529Z"
   },
   {
    "duration": 7,
    "start_time": "2024-03-15T11:47:49.786Z"
   },
   {
    "duration": 4,
    "start_time": "2024-03-15T11:47:54.576Z"
   },
   {
    "duration": 6,
    "start_time": "2024-03-15T11:47:57.264Z"
   },
   {
    "duration": 4,
    "start_time": "2024-03-15T11:48:02.414Z"
   },
   {
    "duration": 32,
    "start_time": "2024-03-15T11:48:05.064Z"
   },
   {
    "duration": 10,
    "start_time": "2024-03-15T11:48:10.988Z"
   },
   {
    "duration": 3,
    "start_time": "2024-03-15T11:48:14.355Z"
   },
   {
    "duration": 12,
    "start_time": "2024-03-15T11:48:19.823Z"
   },
   {
    "duration": 20,
    "start_time": "2024-03-15T11:48:22.208Z"
   },
   {
    "duration": 16,
    "start_time": "2024-03-15T11:48:24.546Z"
   },
   {
    "duration": 3,
    "start_time": "2024-03-15T11:48:29.061Z"
   },
   {
    "duration": 11,
    "start_time": "2024-03-15T11:48:36.274Z"
   },
   {
    "duration": 5,
    "start_time": "2024-03-15T11:48:38.534Z"
   },
   {
    "duration": 3,
    "start_time": "2024-03-15T11:48:43.602Z"
   },
   {
    "duration": 8,
    "start_time": "2024-03-15T11:48:45.882Z"
   },
   {
    "duration": 37,
    "start_time": "2024-03-15T11:48:52.041Z"
   },
   {
    "duration": 29,
    "start_time": "2024-03-15T11:49:15.057Z"
   },
   {
    "duration": 31,
    "start_time": "2024-03-15T11:49:43.759Z"
   },
   {
    "duration": 28,
    "start_time": "2024-03-15T11:50:22.187Z"
   },
   {
    "duration": 56,
    "start_time": "2024-03-15T11:50:51.238Z"
   },
   {
    "duration": 52,
    "start_time": "2024-03-15T11:51:37.051Z"
   },
   {
    "duration": 45,
    "start_time": "2024-03-15T11:53:26.450Z"
   },
   {
    "duration": 23,
    "start_time": "2024-03-15T11:53:32.970Z"
   },
   {
    "duration": 22,
    "start_time": "2024-03-15T11:54:28.007Z"
   },
   {
    "duration": 19,
    "start_time": "2024-03-15T11:55:06.877Z"
   },
   {
    "duration": 21,
    "start_time": "2024-03-15T11:55:14.312Z"
   },
   {
    "duration": 21,
    "start_time": "2024-03-15T11:57:40.977Z"
   },
   {
    "duration": 20,
    "start_time": "2024-03-15T11:58:24.524Z"
   },
   {
    "duration": 55,
    "start_time": "2024-03-15T11:59:20.178Z"
   },
   {
    "duration": 60,
    "start_time": "2024-03-15T12:00:58.808Z"
   },
   {
    "duration": 59,
    "start_time": "2024-03-15T12:02:00.723Z"
   },
   {
    "duration": 65,
    "start_time": "2024-03-15T12:02:48.147Z"
   },
   {
    "duration": 57,
    "start_time": "2024-03-15T12:03:05.559Z"
   },
   {
    "duration": 54,
    "start_time": "2024-03-15T12:03:45.977Z"
   },
   {
    "duration": 56,
    "start_time": "2024-03-15T12:04:05.509Z"
   },
   {
    "duration": 55,
    "start_time": "2024-03-15T12:04:33.882Z"
   },
   {
    "duration": 59,
    "start_time": "2024-03-15T12:07:03.060Z"
   },
   {
    "duration": 58,
    "start_time": "2024-03-15T12:07:49.344Z"
   },
   {
    "duration": 54,
    "start_time": "2024-03-15T12:08:16.093Z"
   },
   {
    "duration": 55,
    "start_time": "2024-03-15T12:08:47.117Z"
   },
   {
    "duration": 58,
    "start_time": "2024-03-15T12:09:08.422Z"
   },
   {
    "duration": 54,
    "start_time": "2024-03-15T12:10:28.205Z"
   },
   {
    "duration": 54,
    "start_time": "2024-03-15T12:10:51.894Z"
   },
   {
    "duration": 51,
    "start_time": "2024-03-15T12:11:20.523Z"
   },
   {
    "duration": 18,
    "start_time": "2024-03-15T12:12:47.564Z"
   },
   {
    "duration": 17,
    "start_time": "2024-03-15T12:15:09.828Z"
   },
   {
    "duration": 18,
    "start_time": "2024-03-15T12:15:18.416Z"
   },
   {
    "duration": 18,
    "start_time": "2024-03-15T12:17:27.167Z"
   },
   {
    "duration": 29,
    "start_time": "2024-03-15T12:18:10.587Z"
   },
   {
    "duration": 18,
    "start_time": "2024-03-15T12:18:43.157Z"
   },
   {
    "duration": 18,
    "start_time": "2024-03-15T12:24:58.200Z"
   },
   {
    "duration": 17,
    "start_time": "2024-03-15T12:25:35.706Z"
   },
   {
    "duration": 18,
    "start_time": "2024-03-15T12:26:36.797Z"
   },
   {
    "duration": 3,
    "start_time": "2024-03-15T12:27:02.282Z"
   },
   {
    "duration": 9,
    "start_time": "2024-03-15T12:27:03.737Z"
   },
   {
    "duration": 20,
    "start_time": "2024-03-15T12:27:15.825Z"
   },
   {
    "duration": 53,
    "start_time": "2024-03-15T12:27:54.177Z"
   },
   {
    "duration": 30,
    "start_time": "2024-03-15T12:28:32.689Z"
   },
   {
    "duration": 33,
    "start_time": "2024-03-15T12:28:59.684Z"
   },
   {
    "duration": 28,
    "start_time": "2024-03-15T12:32:08.788Z"
   },
   {
    "duration": 127,
    "start_time": "2024-03-15T12:35:17.092Z"
   },
   {
    "duration": 27,
    "start_time": "2024-03-15T12:35:26.568Z"
   },
   {
    "duration": 22,
    "start_time": "2024-03-15T12:35:46.545Z"
   },
   {
    "duration": 25,
    "start_time": "2024-03-15T12:36:07.605Z"
   },
   {
    "duration": 23,
    "start_time": "2024-03-15T12:38:30.832Z"
   },
   {
    "duration": 23,
    "start_time": "2024-03-15T12:41:28.450Z"
   },
   {
    "duration": 23,
    "start_time": "2024-03-15T12:42:24.626Z"
   },
   {
    "duration": 23,
    "start_time": "2024-03-15T12:43:15.756Z"
   },
   {
    "duration": 33,
    "start_time": "2024-03-15T12:43:42.800Z"
   },
   {
    "duration": 50,
    "start_time": "2024-03-15T12:44:12.756Z"
   },
   {
    "duration": 48,
    "start_time": "2024-03-15T12:44:26.369Z"
   },
   {
    "duration": 27,
    "start_time": "2024-03-15T12:44:43.326Z"
   },
   {
    "duration": 13,
    "start_time": "2024-03-15T12:46:41.360Z"
   },
   {
    "duration": 14,
    "start_time": "2024-03-15T12:49:38.975Z"
   },
   {
    "duration": 12,
    "start_time": "2024-03-15T12:50:50.339Z"
   },
   {
    "duration": 11,
    "start_time": "2024-03-15T12:50:57.834Z"
   },
   {
    "duration": 12,
    "start_time": "2024-03-15T12:52:40.548Z"
   },
   {
    "duration": 12,
    "start_time": "2024-03-15T12:52:48.450Z"
   },
   {
    "duration": 11,
    "start_time": "2024-03-15T12:52:52.613Z"
   },
   {
    "duration": 12,
    "start_time": "2024-03-15T12:53:34.300Z"
   },
   {
    "duration": 16,
    "start_time": "2024-03-15T12:53:52.968Z"
   },
   {
    "duration": 12,
    "start_time": "2024-03-15T12:54:24.994Z"
   },
   {
    "duration": 13,
    "start_time": "2024-03-15T12:54:44.461Z"
   },
   {
    "duration": 14,
    "start_time": "2024-03-15T12:54:51.515Z"
   },
   {
    "duration": 17,
    "start_time": "2024-03-15T12:55:44.493Z"
   },
   {
    "duration": 14,
    "start_time": "2024-03-15T12:55:53.248Z"
   },
   {
    "duration": 14,
    "start_time": "2024-03-15T12:56:18.432Z"
   },
   {
    "duration": 102,
    "start_time": "2024-03-15T13:00:22.624Z"
   },
   {
    "duration": 11,
    "start_time": "2024-03-15T13:00:37.616Z"
   },
   {
    "duration": 17,
    "start_time": "2024-03-15T13:07:55.266Z"
   },
   {
    "duration": 17,
    "start_time": "2024-03-15T13:08:30.602Z"
   },
   {
    "duration": 18,
    "start_time": "2024-03-15T13:09:06.281Z"
   },
   {
    "duration": 17,
    "start_time": "2024-03-15T13:11:02.430Z"
   },
   {
    "duration": 16,
    "start_time": "2024-03-15T13:12:50.874Z"
   },
   {
    "duration": 20,
    "start_time": "2024-03-15T13:13:06.036Z"
   },
   {
    "duration": 16,
    "start_time": "2024-03-15T13:13:10.726Z"
   },
   {
    "duration": 22,
    "start_time": "2024-03-15T13:15:51.169Z"
   },
   {
    "duration": 24,
    "start_time": "2024-03-15T13:16:47.224Z"
   },
   {
    "duration": 22,
    "start_time": "2024-03-15T13:17:13.776Z"
   },
   {
    "duration": 16,
    "start_time": "2024-03-15T13:18:59.147Z"
   },
   {
    "duration": 23,
    "start_time": "2024-03-15T13:19:22.919Z"
   },
   {
    "duration": 24,
    "start_time": "2024-03-15T13:19:34.509Z"
   },
   {
    "duration": 22,
    "start_time": "2024-03-15T13:20:26.476Z"
   },
   {
    "duration": 22,
    "start_time": "2024-03-15T13:20:40.222Z"
   },
   {
    "duration": 21,
    "start_time": "2024-03-15T13:21:00.878Z"
   },
   {
    "duration": 14,
    "start_time": "2024-03-15T13:22:01.478Z"
   },
   {
    "duration": 14,
    "start_time": "2024-03-15T13:25:09.673Z"
   },
   {
    "duration": 101,
    "start_time": "2024-03-15T13:25:37.820Z"
   },
   {
    "duration": 14,
    "start_time": "2024-03-15T13:25:44.036Z"
   },
   {
    "duration": 15,
    "start_time": "2024-03-15T13:26:20.011Z"
   },
   {
    "duration": 20,
    "start_time": "2024-03-15T13:26:33.220Z"
   },
   {
    "duration": 13,
    "start_time": "2024-03-15T13:26:47.044Z"
   },
   {
    "duration": 13,
    "start_time": "2024-03-15T13:29:32.631Z"
   },
   {
    "duration": 14,
    "start_time": "2024-03-15T13:30:05.061Z"
   },
   {
    "duration": 13,
    "start_time": "2024-03-15T13:30:14.984Z"
   },
   {
    "duration": 15,
    "start_time": "2024-03-15T13:30:42.334Z"
   },
   {
    "duration": 18,
    "start_time": "2024-03-15T13:31:01.391Z"
   },
   {
    "duration": 22,
    "start_time": "2024-03-15T13:31:25.598Z"
   },
   {
    "duration": 35,
    "start_time": "2024-03-15T13:32:30.453Z"
   },
   {
    "duration": 25,
    "start_time": "2024-03-15T13:33:36.957Z"
   },
   {
    "duration": 27,
    "start_time": "2024-03-15T13:34:06.336Z"
   },
   {
    "duration": 24,
    "start_time": "2024-03-15T13:34:38.651Z"
   },
   {
    "duration": 25,
    "start_time": "2024-03-15T13:34:48.107Z"
   },
   {
    "duration": 26,
    "start_time": "2024-03-15T13:35:11.903Z"
   },
   {
    "duration": 28,
    "start_time": "2024-03-15T13:35:31.367Z"
   },
   {
    "duration": 18,
    "start_time": "2024-03-15T13:38:17.871Z"
   },
   {
    "duration": 29,
    "start_time": "2024-03-15T13:39:22.999Z"
   },
   {
    "duration": 28,
    "start_time": "2024-03-15T13:39:51.181Z"
   },
   {
    "duration": 21,
    "start_time": "2024-03-15T13:40:08.714Z"
   },
   {
    "duration": 21,
    "start_time": "2024-03-15T13:40:30.342Z"
   },
   {
    "duration": 25,
    "start_time": "2024-03-15T13:40:44.583Z"
   },
   {
    "duration": 26,
    "start_time": "2024-03-15T13:41:03.765Z"
   },
   {
    "duration": 39,
    "start_time": "2024-03-15T13:41:49.739Z"
   },
   {
    "duration": 27,
    "start_time": "2024-03-15T13:42:19.773Z"
   },
   {
    "duration": 15,
    "start_time": "2024-03-15T13:42:43.490Z"
   },
   {
    "duration": 133,
    "start_time": "2024-03-15T13:47:01.220Z"
   },
   {
    "duration": 139,
    "start_time": "2024-03-15T13:47:25.649Z"
   },
   {
    "duration": 45,
    "start_time": "2024-03-15T13:47:37.877Z"
   },
   {
    "duration": 14,
    "start_time": "2024-03-15T13:49:46.481Z"
   },
   {
    "duration": 17,
    "start_time": "2024-03-15T13:50:36.373Z"
   },
   {
    "duration": 17,
    "start_time": "2024-03-15T13:51:50.221Z"
   },
   {
    "duration": 16,
    "start_time": "2024-03-15T13:52:20.578Z"
   },
   {
    "duration": 17,
    "start_time": "2024-03-15T13:52:43.528Z"
   },
   {
    "duration": 17,
    "start_time": "2024-03-15T13:56:30.054Z"
   },
   {
    "duration": 17,
    "start_time": "2024-03-15T13:56:49.084Z"
   },
   {
    "duration": 118,
    "start_time": "2024-03-15T13:57:08.668Z"
   },
   {
    "duration": 15,
    "start_time": "2024-03-15T13:57:18.885Z"
   },
   {
    "duration": 14,
    "start_time": "2024-03-15T13:57:25.553Z"
   },
   {
    "duration": 16,
    "start_time": "2024-03-15T13:57:35.190Z"
   },
   {
    "duration": 17,
    "start_time": "2024-03-15T14:03:14.023Z"
   },
   {
    "duration": 20,
    "start_time": "2024-03-15T14:03:29.856Z"
   },
   {
    "duration": 15,
    "start_time": "2024-03-15T14:04:22.907Z"
   },
   {
    "duration": 16,
    "start_time": "2024-03-15T14:05:01.807Z"
   },
   {
    "duration": 22,
    "start_time": "2024-03-15T14:05:20.645Z"
   },
   {
    "duration": 24,
    "start_time": "2024-03-15T14:06:14.501Z"
   },
   {
    "duration": 27,
    "start_time": "2024-03-15T14:06:29.319Z"
   },
   {
    "duration": 23,
    "start_time": "2024-03-15T14:06:43.961Z"
   },
   {
    "duration": 25,
    "start_time": "2024-03-15T14:09:25.083Z"
   },
   {
    "duration": 28,
    "start_time": "2024-03-15T14:11:05.613Z"
   },
   {
    "duration": 22,
    "start_time": "2024-03-15T14:11:34.462Z"
   },
   {
    "duration": 22,
    "start_time": "2024-03-15T14:11:56.203Z"
   },
   {
    "duration": 16,
    "start_time": "2024-03-15T14:13:38.150Z"
   },
   {
    "duration": 24,
    "start_time": "2024-03-15T14:13:46.353Z"
   },
   {
    "duration": 22,
    "start_time": "2024-03-15T14:14:39.101Z"
   },
   {
    "duration": 23,
    "start_time": "2024-03-15T14:18:31.333Z"
   },
   {
    "duration": 20,
    "start_time": "2024-03-15T14:38:31.852Z"
   },
   {
    "duration": 13,
    "start_time": "2024-03-15T14:40:16.472Z"
   },
   {
    "duration": 18,
    "start_time": "2024-03-15T14:41:00.624Z"
   },
   {
    "duration": 25,
    "start_time": "2024-03-15T14:41:22.120Z"
   },
   {
    "duration": 19,
    "start_time": "2024-03-15T14:43:43.984Z"
   },
   {
    "duration": 19,
    "start_time": "2024-03-15T14:44:15.101Z"
   },
   {
    "duration": 23,
    "start_time": "2024-03-15T14:46:04.143Z"
   },
   {
    "duration": 21,
    "start_time": "2024-03-15T15:38:00.643Z"
   },
   {
    "duration": 25,
    "start_time": "2024-03-15T15:38:07.683Z"
   },
   {
    "duration": 11,
    "start_time": "2024-03-15T15:38:45.788Z"
   },
   {
    "duration": 10,
    "start_time": "2024-03-15T15:38:54.345Z"
   },
   {
    "duration": 21,
    "start_time": "2024-03-15T15:39:26.544Z"
   },
   {
    "duration": 21,
    "start_time": "2024-03-15T15:39:42.874Z"
   },
   {
    "duration": 17,
    "start_time": "2024-03-15T15:45:21.997Z"
   },
   {
    "duration": 15,
    "start_time": "2024-03-15T15:48:59.444Z"
   },
   {
    "duration": 10,
    "start_time": "2024-03-15T15:49:31.197Z"
   },
   {
    "duration": 8,
    "start_time": "2024-03-15T15:49:42.361Z"
   },
   {
    "duration": 7,
    "start_time": "2024-03-15T15:50:35.428Z"
   },
   {
    "duration": 10,
    "start_time": "2024-03-15T15:52:20.929Z"
   },
   {
    "duration": 10,
    "start_time": "2024-03-15T15:52:29.051Z"
   },
   {
    "duration": 8,
    "start_time": "2024-03-15T15:52:33.870Z"
   },
   {
    "duration": 8,
    "start_time": "2024-03-15T15:52:39.511Z"
   },
   {
    "duration": 78,
    "start_time": "2024-03-15T15:53:02.612Z"
   },
   {
    "duration": 16,
    "start_time": "2024-03-15T15:53:04.918Z"
   },
   {
    "duration": 19,
    "start_time": "2024-03-15T15:53:11.535Z"
   },
   {
    "duration": 11,
    "start_time": "2024-03-15T15:53:15.761Z"
   },
   {
    "duration": 34,
    "start_time": "2024-03-15T15:53:20.086Z"
   },
   {
    "duration": 3,
    "start_time": "2024-03-15T15:53:22.520Z"
   },
   {
    "duration": 7,
    "start_time": "2024-03-15T15:53:25.104Z"
   },
   {
    "duration": 4,
    "start_time": "2024-03-15T15:53:30.871Z"
   },
   {
    "duration": 7,
    "start_time": "2024-03-15T15:53:33.688Z"
   },
   {
    "duration": 5,
    "start_time": "2024-03-15T15:53:35.848Z"
   },
   {
    "duration": 35,
    "start_time": "2024-03-15T15:53:41.570Z"
   },
   {
    "duration": 11,
    "start_time": "2024-03-15T15:53:44.254Z"
   },
   {
    "duration": 3,
    "start_time": "2024-03-15T15:53:50.875Z"
   },
   {
    "duration": 20,
    "start_time": "2024-03-15T15:53:52.932Z"
   },
   {
    "duration": 19,
    "start_time": "2024-03-15T15:53:55.553Z"
   },
   {
    "duration": 21,
    "start_time": "2024-03-15T15:53:57.586Z"
   },
   {
    "duration": 5,
    "start_time": "2024-03-15T15:54:02.438Z"
   },
   {
    "duration": 17,
    "start_time": "2024-03-15T15:54:04.975Z"
   },
   {
    "duration": 6,
    "start_time": "2024-03-15T15:54:09.855Z"
   },
   {
    "duration": 4,
    "start_time": "2024-03-15T15:54:14.354Z"
   },
   {
    "duration": 8,
    "start_time": "2024-03-15T15:54:17.160Z"
   },
   {
    "duration": 24,
    "start_time": "2024-03-15T15:54:22.288Z"
   },
   {
    "duration": 22,
    "start_time": "2024-03-15T15:54:29.826Z"
   },
   {
    "duration": 7,
    "start_time": "2024-03-15T15:54:37.419Z"
   },
   {
    "duration": 8,
    "start_time": "2024-03-15T15:54:50.692Z"
   },
   {
    "duration": 7,
    "start_time": "2024-03-15T15:55:55.205Z"
   },
   {
    "duration": 8,
    "start_time": "2024-03-15T15:56:11.823Z"
   },
   {
    "duration": 3,
    "start_time": "2024-03-15T15:56:18.621Z"
   },
   {
    "duration": 7,
    "start_time": "2024-03-15T15:56:37.941Z"
   },
   {
    "duration": 20,
    "start_time": "2024-03-15T15:57:03.542Z"
   },
   {
    "duration": 21,
    "start_time": "2024-03-15T15:57:14.032Z"
   },
   {
    "duration": 8,
    "start_time": "2024-03-15T15:58:19.421Z"
   },
   {
    "duration": 99,
    "start_time": "2024-03-15T15:58:37.998Z"
   },
   {
    "duration": 21,
    "start_time": "2024-03-15T15:58:41.962Z"
   },
   {
    "duration": 27,
    "start_time": "2024-03-15T15:59:12.408Z"
   },
   {
    "duration": 24,
    "start_time": "2024-03-15T16:00:00.555Z"
   },
   {
    "duration": 10,
    "start_time": "2024-03-15T16:00:59.246Z"
   },
   {
    "duration": 24,
    "start_time": "2024-03-15T16:01:05.065Z"
   },
   {
    "duration": 23,
    "start_time": "2024-03-15T16:01:20.077Z"
   },
   {
    "duration": 39,
    "start_time": "2024-03-15T16:02:08.582Z"
   },
   {
    "duration": 24,
    "start_time": "2024-03-15T16:02:27.471Z"
   },
   {
    "duration": 30,
    "start_time": "2024-03-15T16:03:29.583Z"
   },
   {
    "duration": 34,
    "start_time": "2024-03-15T16:04:31.455Z"
   },
   {
    "duration": 27,
    "start_time": "2024-03-15T16:04:56.484Z"
   },
   {
    "duration": 29,
    "start_time": "2024-03-15T16:05:23.268Z"
   },
   {
    "duration": 39,
    "start_time": "2024-03-15T16:06:45.521Z"
   },
   {
    "duration": 97,
    "start_time": "2024-03-15T16:09:34.837Z"
   },
   {
    "duration": 65,
    "start_time": "2024-03-15T16:09:39.083Z"
   },
   {
    "duration": 28,
    "start_time": "2024-03-15T16:14:16.388Z"
   },
   {
    "duration": 25,
    "start_time": "2024-03-15T16:14:37.323Z"
   },
   {
    "duration": 28,
    "start_time": "2024-03-15T16:15:01.743Z"
   },
   {
    "duration": 27,
    "start_time": "2024-03-15T16:15:18.007Z"
   },
   {
    "duration": 26,
    "start_time": "2024-03-15T16:16:21.597Z"
   },
   {
    "duration": 23,
    "start_time": "2024-03-15T16:16:29.498Z"
   },
   {
    "duration": 24,
    "start_time": "2024-03-15T16:16:51.794Z"
   },
   {
    "duration": 26,
    "start_time": "2024-03-15T16:18:26.980Z"
   },
   {
    "duration": 25,
    "start_time": "2024-03-15T16:18:39.256Z"
   },
   {
    "duration": 102,
    "start_time": "2024-03-15T16:19:41.231Z"
   },
   {
    "duration": 32,
    "start_time": "2024-03-15T16:19:46.421Z"
   },
   {
    "duration": 29,
    "start_time": "2024-03-15T16:20:20.006Z"
   },
   {
    "duration": 34,
    "start_time": "2024-03-15T16:20:35.368Z"
   },
   {
    "duration": 25,
    "start_time": "2024-03-15T16:21:04.970Z"
   },
   {
    "duration": 26,
    "start_time": "2024-03-15T16:21:27.431Z"
   },
   {
    "duration": 10,
    "start_time": "2024-03-15T16:21:35.600Z"
   },
   {
    "duration": 16,
    "start_time": "2024-03-15T16:23:28.785Z"
   },
   {
    "duration": 17,
    "start_time": "2024-03-15T16:42:45.180Z"
   },
   {
    "duration": 17,
    "start_time": "2024-03-15T16:44:56.037Z"
   },
   {
    "duration": 18,
    "start_time": "2024-03-15T16:45:20.904Z"
   },
   {
    "duration": 20,
    "start_time": "2024-03-15T16:46:54.211Z"
   },
   {
    "duration": 23,
    "start_time": "2024-03-15T16:47:06.376Z"
   },
   {
    "duration": 23,
    "start_time": "2024-03-15T16:47:51.757Z"
   },
   {
    "duration": 27,
    "start_time": "2024-03-15T16:48:04.171Z"
   },
   {
    "duration": 53,
    "start_time": "2024-03-16T13:13:33.882Z"
   },
   {
    "duration": 528,
    "start_time": "2024-03-16T13:13:53.809Z"
   },
   {
    "duration": 22,
    "start_time": "2024-03-16T13:13:56.931Z"
   },
   {
    "duration": 16,
    "start_time": "2024-03-16T13:14:03.960Z"
   },
   {
    "duration": 11,
    "start_time": "2024-03-16T13:14:08.263Z"
   },
   {
    "duration": 39,
    "start_time": "2024-03-16T13:14:16.242Z"
   },
   {
    "duration": 4,
    "start_time": "2024-03-16T13:14:18.708Z"
   },
   {
    "duration": 8,
    "start_time": "2024-03-16T13:14:23.705Z"
   },
   {
    "duration": 5,
    "start_time": "2024-03-16T13:14:26.947Z"
   },
   {
    "duration": 7,
    "start_time": "2024-03-16T13:14:31.627Z"
   },
   {
    "duration": 5,
    "start_time": "2024-03-16T13:14:33.653Z"
   },
   {
    "duration": 38,
    "start_time": "2024-03-16T13:14:36.544Z"
   },
   {
    "duration": 12,
    "start_time": "2024-03-16T13:14:44.425Z"
   },
   {
    "duration": 4,
    "start_time": "2024-03-16T13:14:47.121Z"
   },
   {
    "duration": 12,
    "start_time": "2024-03-16T13:14:53.073Z"
   },
   {
    "duration": 20,
    "start_time": "2024-03-16T13:14:55.051Z"
   },
   {
    "duration": 20,
    "start_time": "2024-03-16T13:14:57.521Z"
   },
   {
    "duration": 5,
    "start_time": "2024-03-16T13:15:02.512Z"
   },
   {
    "duration": 11,
    "start_time": "2024-03-16T13:15:04.665Z"
   },
   {
    "duration": 6,
    "start_time": "2024-03-16T13:15:07.039Z"
   },
   {
    "duration": 3,
    "start_time": "2024-03-16T13:15:13.903Z"
   },
   {
    "duration": 10,
    "start_time": "2024-03-16T13:15:16.736Z"
   },
   {
    "duration": 28,
    "start_time": "2024-03-16T13:15:23.678Z"
   },
   {
    "duration": 33,
    "start_time": "2024-03-16T13:15:46.307Z"
   },
   {
    "duration": 31,
    "start_time": "2024-03-16T14:22:50.461Z"
   },
   {
    "duration": 31,
    "start_time": "2024-03-16T14:26:54.516Z"
   },
   {
    "duration": 29,
    "start_time": "2024-03-16T14:27:18.003Z"
   },
   {
    "duration": 14,
    "start_time": "2024-03-16T14:27:31.349Z"
   },
   {
    "duration": 29,
    "start_time": "2024-03-16T14:27:58.712Z"
   },
   {
    "duration": 32,
    "start_time": "2024-03-16T14:28:06.169Z"
   },
   {
    "duration": 30,
    "start_time": "2024-03-16T14:28:12.412Z"
   }
  ],
  "colab": {
   "provenance": []
  },
  "kernelspec": {
   "display_name": "Python 3 (ipykernel)",
   "language": "python",
   "name": "python3"
  },
  "language_info": {
   "codemirror_mode": {
    "name": "ipython",
    "version": 3
   },
   "file_extension": ".py",
   "mimetype": "text/x-python",
   "name": "python",
   "nbconvert_exporter": "python",
   "pygments_lexer": "ipython3",
   "version": "3.9.5"
  },
  "toc": {
   "base_numbering": 1,
   "nav_menu": {},
   "number_sections": true,
   "sideBar": true,
   "skip_h1_title": true,
   "title_cell": "Table of Contents",
   "title_sidebar": "Contents",
   "toc_cell": false,
   "toc_position": {},
   "toc_section_display": true,
   "toc_window_display": false
  }
 },
 "nbformat": 4,
 "nbformat_minor": 5
}
