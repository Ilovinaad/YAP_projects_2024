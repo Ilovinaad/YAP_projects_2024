{
 "cells": [
  {
   "cell_type": "markdown",
   "id": "fd557592",
   "metadata": {},
   "source": [
    "# Проектная работа\n",
    "\n",
    "Заказчик исследования — большая телекоммуникационная компания, которая оказывает услуги на территории всего СНГ. \n",
    "\n",
    "**Задача** исследования является подготовить дашборд с итогами опроса с целью определить текущий уровень потребительской лояльности, или NPS (от англ. Net Promoter Score), среди клиентов из России.\n",
    "\n",
    "Чтобы определить уровень лояльности, клиентам задавали классический вопрос: «Оцените по шкале от 1 до 10 вероятность того, что вы порекомендуете компанию друзьям и знакомым». \n",
    "\n",
    "Чтобы оценить результаты опроса, оценки обычно делят на три группы: 9-10 баллов — «cторонники» (англ. promoters); 7-8 баллов — «нейтралы» (англ. passives); 0-6 баллов — «критики» (англ. detractors).\n",
    "\n",
    "**Этапы** работы:\n",
    "\n",
    "1. Подключимся к базе\n",
    "2. Подготовим и изучим данные\n",
    "3. Построим дашборд\n",
    "4. Создадим презентацию, в которую войдут визуализации, сделанные для дашборда. \n",
    "\n",
    "Итоговое значение NPS рассчитывается по формуле: % «сторонников» - % «критиков». Таким образом, значение этого показателя варьируется от -100% (когда все клиенты «критики») до 100% (когда все клиенты лояльны к сервису). Но это крайние случаи, которые редко встретишь на практике.\n",
    "\n",
    "Интерпретация результатов NPS-опросов исследования может показать, какие клиенты относятся к сторонникам и полезны для бизнеса. Они чаще других повторно совершают покупки, активнее тестируют обновления и приводят в сервис своих друзей и знакомых. Поэтому NPS остаётся одной из важнейших метрик бизнеса."
   ]
  },
  {
   "cell_type": "markdown",
   "id": "4800524f",
   "metadata": {},
   "source": [
    "# Шаг 1. Получим доступ к базе данных. \n",
    "\n",
    "Данные выгрузили в SQLite — СУБД, в которой база данных представлена файлом 'telecomm_csi.db'. \n",
    "\n",
    "Чтобы подключиться к базе данных и сохранить данные в датафрейм в pandas, понадобится этот код: "
   ]
  },
  {
   "cell_type": "code",
   "execution_count": 1,
   "id": "fc7efa54",
   "metadata": {},
   "outputs": [],
   "source": [
    "# Импортируем библиотеки для работы с данными\n",
    "import os\n",
    "import pandas as pd\n",
    "import numpy as np\n",
    "\n",
    "from sqlalchemy import create_engine"
   ]
  },
  {
   "cell_type": "code",
   "execution_count": 2,
   "id": "0017f8e7",
   "metadata": {},
   "outputs": [],
   "source": [
    "# путь к БД на вашем компьютере (например, в той же папке, что и тетрадь)\n",
    "path_to_db_local = 'telecomm_csi.db'\n",
    "# путь к БД на платформе\n",
    "path_to_db_platform = '/datasets/telecomm_csi.db'\n",
    "# итоговый путь к БД\n",
    "path_to_db = None\n",
    "\n",
    "# если путь на вашем компьютере ведёт к БД, то он становится итоговым\n",
    "if os.path.exists(path_to_db_local):\n",
    "    path_to_db = path_to_db_local\n",
    "# иначе: если путь на платформе ведёт к БД, то он становится итоговым\n",
    "elif os.path.exists(path_to_db_platform):\n",
    "    path_to_db = path_to_db_platform\n",
    "# иначе выводится сообщение о том, что файл не найден\n",
    "else:\n",
    "    raise Exception('Файл с базой данных SQLite не найден!')\n",
    "\n",
    "# если итоговый путь не пустой\n",
    "if path_to_db:\n",
    "    # то создаём подключение к базе\n",
    "    engine = create_engine(f'sqlite:///{path_to_db}', echo=False)"
   ]
  },
  {
   "cell_type": "markdown",
   "id": "e0daa3ac",
   "metadata": {},
   "source": [
    "У нас имеется 5 таблиц:\n",
    "\n",
    "- Таблица user\n",
    "Содержит основную информацию о клиентах. В ней находится важные столбцы, которые помогут объединить данные из других таблиц:\n",
    "\n",
    "1. location_id - внешний ключ, отсылающий к таблице location\n",
    "2. age_gr_id - внешний ключ, отсылающий к таблице age_segment\n",
    "3. tr_gr_id\t- внешний ключ, отсылающий к таблице traffic_segment\n",
    "4. lt_gr_id\t- внешний ключ, отсылающий к таблице lifetime_segment\n",
    "\n",
    "- Таблица location\n",
    "Справочник территорий, в которых телеком-компания оказывает услуги.\n",
    "\n",
    "- Таблица age_segment\n",
    "Данные о возрастных сегментах клиентов.\n",
    "\n",
    "- Таблица traffic_segment\n",
    "Данные о выделяемых сегментах по объёму потребляемого трафика.\n",
    "\n",
    "- Таблица lifetime_segment\n",
    "Данные о выделяемых сегментах по количеству месяцев «жизни» клиента — лайфтайму.\n",
    "\n",
    "\n",
    "Далее по очереди откроем таблички с данными для первичного изучения информации в них."
   ]
  },
  {
   "cell_type": "code",
   "execution_count": 3,
   "id": "84ebad43",
   "metadata": {},
   "outputs": [],
   "source": [
    "query = \"\"\"\n",
    "SELECT *\n",
    "FROM user\n",
    "\"\"\""
   ]
  },
  {
   "cell_type": "code",
   "execution_count": 4,
   "id": "3965faf2",
   "metadata": {},
   "outputs": [
    {
     "data": {
      "text/html": [
       "<div>\n",
       "<style scoped>\n",
       "    .dataframe tbody tr th:only-of-type {\n",
       "        vertical-align: middle;\n",
       "    }\n",
       "\n",
       "    .dataframe tbody tr th {\n",
       "        vertical-align: top;\n",
       "    }\n",
       "\n",
       "    .dataframe thead th {\n",
       "        text-align: right;\n",
       "    }\n",
       "</style>\n",
       "<table border=\"1\" class=\"dataframe\">\n",
       "  <thead>\n",
       "    <tr style=\"text-align: right;\">\n",
       "      <th></th>\n",
       "      <th>user_id</th>\n",
       "      <th>lt_day</th>\n",
       "      <th>age</th>\n",
       "      <th>gender_segment</th>\n",
       "      <th>os_name</th>\n",
       "      <th>cpe_type_name</th>\n",
       "      <th>location_id</th>\n",
       "      <th>age_gr_id</th>\n",
       "      <th>tr_gr_id</th>\n",
       "      <th>lt_gr_id</th>\n",
       "      <th>nps_score</th>\n",
       "    </tr>\n",
       "  </thead>\n",
       "  <tbody>\n",
       "    <tr>\n",
       "      <th>0</th>\n",
       "      <td>A001A2</td>\n",
       "      <td>2320</td>\n",
       "      <td>45.0</td>\n",
       "      <td>1.0</td>\n",
       "      <td>ANDROID</td>\n",
       "      <td>SMARTPHONE</td>\n",
       "      <td>55</td>\n",
       "      <td>5</td>\n",
       "      <td>5</td>\n",
       "      <td>8</td>\n",
       "      <td>10</td>\n",
       "    </tr>\n",
       "    <tr>\n",
       "      <th>1</th>\n",
       "      <td>A001WF</td>\n",
       "      <td>2344</td>\n",
       "      <td>53.0</td>\n",
       "      <td>0.0</td>\n",
       "      <td>ANDROID</td>\n",
       "      <td>SMARTPHONE</td>\n",
       "      <td>21</td>\n",
       "      <td>5</td>\n",
       "      <td>5</td>\n",
       "      <td>8</td>\n",
       "      <td>10</td>\n",
       "    </tr>\n",
       "    <tr>\n",
       "      <th>2</th>\n",
       "      <td>A003Q7</td>\n",
       "      <td>467</td>\n",
       "      <td>57.0</td>\n",
       "      <td>0.0</td>\n",
       "      <td>ANDROID</td>\n",
       "      <td>SMARTPHONE</td>\n",
       "      <td>28</td>\n",
       "      <td>6</td>\n",
       "      <td>9</td>\n",
       "      <td>6</td>\n",
       "      <td>10</td>\n",
       "    </tr>\n",
       "    <tr>\n",
       "      <th>3</th>\n",
       "      <td>A004TB</td>\n",
       "      <td>4190</td>\n",
       "      <td>44.0</td>\n",
       "      <td>1.0</td>\n",
       "      <td>IOS</td>\n",
       "      <td>SMARTPHONE</td>\n",
       "      <td>38</td>\n",
       "      <td>4</td>\n",
       "      <td>4</td>\n",
       "      <td>8</td>\n",
       "      <td>10</td>\n",
       "    </tr>\n",
       "    <tr>\n",
       "      <th>4</th>\n",
       "      <td>A004XT</td>\n",
       "      <td>1163</td>\n",
       "      <td>24.0</td>\n",
       "      <td>0.0</td>\n",
       "      <td>ANDROID</td>\n",
       "      <td>SMARTPHONE</td>\n",
       "      <td>39</td>\n",
       "      <td>2</td>\n",
       "      <td>6</td>\n",
       "      <td>8</td>\n",
       "      <td>10</td>\n",
       "    </tr>\n",
       "  </tbody>\n",
       "</table>\n",
       "</div>"
      ],
      "text/plain": [
       "  user_id  lt_day   age  gender_segment  os_name cpe_type_name  location_id  \\\n",
       "0  A001A2    2320  45.0             1.0  ANDROID    SMARTPHONE           55   \n",
       "1  A001WF    2344  53.0             0.0  ANDROID    SMARTPHONE           21   \n",
       "2  A003Q7     467  57.0             0.0  ANDROID    SMARTPHONE           28   \n",
       "3  A004TB    4190  44.0             1.0      IOS    SMARTPHONE           38   \n",
       "4  A004XT    1163  24.0             0.0  ANDROID    SMARTPHONE           39   \n",
       "\n",
       "   age_gr_id  tr_gr_id  lt_gr_id  nps_score  \n",
       "0          5         5         8         10  \n",
       "1          5         5         8         10  \n",
       "2          6         9         6         10  \n",
       "3          4         4         8         10  \n",
       "4          2         6         8         10  "
      ]
     },
     "execution_count": 4,
     "metadata": {},
     "output_type": "execute_result"
    }
   ],
   "source": [
    "df = pd.read_sql(query, engine)\n",
    "df.head(5)"
   ]
  },
  {
   "cell_type": "code",
   "execution_count": 5,
   "id": "9e83b126",
   "metadata": {},
   "outputs": [],
   "source": [
    "query = \"\"\"\n",
    "SELECT *\n",
    "FROM location\n",
    "\"\"\""
   ]
  },
  {
   "cell_type": "code",
   "execution_count": 6,
   "id": "da5c55c4",
   "metadata": {},
   "outputs": [
    {
     "data": {
      "text/html": [
       "<div>\n",
       "<style scoped>\n",
       "    .dataframe tbody tr th:only-of-type {\n",
       "        vertical-align: middle;\n",
       "    }\n",
       "\n",
       "    .dataframe tbody tr th {\n",
       "        vertical-align: top;\n",
       "    }\n",
       "\n",
       "    .dataframe thead th {\n",
       "        text-align: right;\n",
       "    }\n",
       "</style>\n",
       "<table border=\"1\" class=\"dataframe\">\n",
       "  <thead>\n",
       "    <tr style=\"text-align: right;\">\n",
       "      <th></th>\n",
       "      <th>location_id</th>\n",
       "      <th>city</th>\n",
       "      <th>country</th>\n",
       "    </tr>\n",
       "  </thead>\n",
       "  <tbody>\n",
       "    <tr>\n",
       "      <th>0</th>\n",
       "      <td>1</td>\n",
       "      <td>Архангельск</td>\n",
       "      <td>Россия</td>\n",
       "    </tr>\n",
       "    <tr>\n",
       "      <th>1</th>\n",
       "      <td>2</td>\n",
       "      <td>Астрахань</td>\n",
       "      <td>Россия</td>\n",
       "    </tr>\n",
       "    <tr>\n",
       "      <th>2</th>\n",
       "      <td>3</td>\n",
       "      <td>Балашиха</td>\n",
       "      <td>Россия</td>\n",
       "    </tr>\n",
       "  </tbody>\n",
       "</table>\n",
       "</div>"
      ],
      "text/plain": [
       "   location_id         city country\n",
       "0            1  Архангельск  Россия\n",
       "1            2    Астрахань  Россия\n",
       "2            3     Балашиха  Россия"
      ]
     },
     "execution_count": 6,
     "metadata": {},
     "output_type": "execute_result"
    }
   ],
   "source": [
    "df = pd.read_sql(query, engine)\n",
    "df.head(3)"
   ]
  },
  {
   "cell_type": "code",
   "execution_count": 7,
   "id": "4efee604",
   "metadata": {},
   "outputs": [],
   "source": [
    "query = \"\"\"\n",
    "SELECT *\n",
    "FROM age_segment\n",
    "\"\"\""
   ]
  },
  {
   "cell_type": "code",
   "execution_count": 8,
   "id": "c98b1695",
   "metadata": {},
   "outputs": [
    {
     "data": {
      "text/html": [
       "<div>\n",
       "<style scoped>\n",
       "    .dataframe tbody tr th:only-of-type {\n",
       "        vertical-align: middle;\n",
       "    }\n",
       "\n",
       "    .dataframe tbody tr th {\n",
       "        vertical-align: top;\n",
       "    }\n",
       "\n",
       "    .dataframe thead th {\n",
       "        text-align: right;\n",
       "    }\n",
       "</style>\n",
       "<table border=\"1\" class=\"dataframe\">\n",
       "  <thead>\n",
       "    <tr style=\"text-align: right;\">\n",
       "      <th></th>\n",
       "      <th>age_gr_id</th>\n",
       "      <th>bucket_min</th>\n",
       "      <th>bucket_max</th>\n",
       "      <th>title</th>\n",
       "    </tr>\n",
       "  </thead>\n",
       "  <tbody>\n",
       "    <tr>\n",
       "      <th>0</th>\n",
       "      <td>1</td>\n",
       "      <td>NaN</td>\n",
       "      <td>15.0</td>\n",
       "      <td>01 до 16</td>\n",
       "    </tr>\n",
       "    <tr>\n",
       "      <th>1</th>\n",
       "      <td>2</td>\n",
       "      <td>16.0</td>\n",
       "      <td>24.0</td>\n",
       "      <td>02 16-24</td>\n",
       "    </tr>\n",
       "    <tr>\n",
       "      <th>2</th>\n",
       "      <td>3</td>\n",
       "      <td>25.0</td>\n",
       "      <td>34.0</td>\n",
       "      <td>03 25-34</td>\n",
       "    </tr>\n",
       "  </tbody>\n",
       "</table>\n",
       "</div>"
      ],
      "text/plain": [
       "   age_gr_id  bucket_min  bucket_max     title\n",
       "0          1         NaN        15.0  01 до 16\n",
       "1          2        16.0        24.0  02 16-24\n",
       "2          3        25.0        34.0  03 25-34"
      ]
     },
     "execution_count": 8,
     "metadata": {},
     "output_type": "execute_result"
    }
   ],
   "source": [
    "df = pd.read_sql(query, engine)\n",
    "df.head(3)"
   ]
  },
  {
   "cell_type": "code",
   "execution_count": 9,
   "id": "6c649205",
   "metadata": {},
   "outputs": [],
   "source": [
    "query = \"\"\"\n",
    "SELECT *\n",
    "FROM traffic_segment\n",
    "\"\"\""
   ]
  },
  {
   "cell_type": "code",
   "execution_count": 10,
   "id": "71a9ed76",
   "metadata": {},
   "outputs": [
    {
     "data": {
      "text/html": [
       "<div>\n",
       "<style scoped>\n",
       "    .dataframe tbody tr th:only-of-type {\n",
       "        vertical-align: middle;\n",
       "    }\n",
       "\n",
       "    .dataframe tbody tr th {\n",
       "        vertical-align: top;\n",
       "    }\n",
       "\n",
       "    .dataframe thead th {\n",
       "        text-align: right;\n",
       "    }\n",
       "</style>\n",
       "<table border=\"1\" class=\"dataframe\">\n",
       "  <thead>\n",
       "    <tr style=\"text-align: right;\">\n",
       "      <th></th>\n",
       "      <th>tr_gr_id</th>\n",
       "      <th>bucket_min</th>\n",
       "      <th>bucket_max</th>\n",
       "      <th>title</th>\n",
       "    </tr>\n",
       "  </thead>\n",
       "  <tbody>\n",
       "    <tr>\n",
       "      <th>0</th>\n",
       "      <td>1</td>\n",
       "      <td>0.00</td>\n",
       "      <td>0.00</td>\n",
       "      <td>01 0</td>\n",
       "    </tr>\n",
       "    <tr>\n",
       "      <th>1</th>\n",
       "      <td>2</td>\n",
       "      <td>0.00</td>\n",
       "      <td>0.01</td>\n",
       "      <td>01 0-0.01</td>\n",
       "    </tr>\n",
       "    <tr>\n",
       "      <th>2</th>\n",
       "      <td>3</td>\n",
       "      <td>0.01</td>\n",
       "      <td>0.10</td>\n",
       "      <td>02 0.01-0.1</td>\n",
       "    </tr>\n",
       "  </tbody>\n",
       "</table>\n",
       "</div>"
      ],
      "text/plain": [
       "   tr_gr_id  bucket_min  bucket_max        title\n",
       "0         1        0.00        0.00         01 0\n",
       "1         2        0.00        0.01    01 0-0.01\n",
       "2         3        0.01        0.10  02 0.01-0.1"
      ]
     },
     "execution_count": 10,
     "metadata": {},
     "output_type": "execute_result"
    }
   ],
   "source": [
    "df = pd.read_sql(query, engine)\n",
    "df.head(3)"
   ]
  },
  {
   "cell_type": "code",
   "execution_count": 11,
   "id": "1f509e38",
   "metadata": {},
   "outputs": [],
   "source": [
    "query = \"\"\"\n",
    "SELECT *\n",
    "FROM lifetime_segment\n",
    "\"\"\""
   ]
  },
  {
   "cell_type": "code",
   "execution_count": 12,
   "id": "b3f86cbc",
   "metadata": {},
   "outputs": [
    {
     "data": {
      "text/html": [
       "<div>\n",
       "<style scoped>\n",
       "    .dataframe tbody tr th:only-of-type {\n",
       "        vertical-align: middle;\n",
       "    }\n",
       "\n",
       "    .dataframe tbody tr th {\n",
       "        vertical-align: top;\n",
       "    }\n",
       "\n",
       "    .dataframe thead th {\n",
       "        text-align: right;\n",
       "    }\n",
       "</style>\n",
       "<table border=\"1\" class=\"dataframe\">\n",
       "  <thead>\n",
       "    <tr style=\"text-align: right;\">\n",
       "      <th></th>\n",
       "      <th>lt_gr_id</th>\n",
       "      <th>bucket_min</th>\n",
       "      <th>bucket_max</th>\n",
       "      <th>title</th>\n",
       "    </tr>\n",
       "  </thead>\n",
       "  <tbody>\n",
       "    <tr>\n",
       "      <th>0</th>\n",
       "      <td>1</td>\n",
       "      <td>1.0</td>\n",
       "      <td>1.0</td>\n",
       "      <td>01 1</td>\n",
       "    </tr>\n",
       "    <tr>\n",
       "      <th>1</th>\n",
       "      <td>2</td>\n",
       "      <td>2.0</td>\n",
       "      <td>2.0</td>\n",
       "      <td>02 2</td>\n",
       "    </tr>\n",
       "    <tr>\n",
       "      <th>2</th>\n",
       "      <td>3</td>\n",
       "      <td>3.0</td>\n",
       "      <td>3.0</td>\n",
       "      <td>03 3</td>\n",
       "    </tr>\n",
       "  </tbody>\n",
       "</table>\n",
       "</div>"
      ],
      "text/plain": [
       "   lt_gr_id  bucket_min  bucket_max title\n",
       "0         1         1.0         1.0  01 1\n",
       "1         2         2.0         2.0  02 2\n",
       "2         3         3.0         3.0  03 3"
      ]
     },
     "execution_count": 12,
     "metadata": {},
     "output_type": "execute_result"
    }
   ],
   "source": [
    "df = pd.read_sql(query, engine)\n",
    "df.head(3)"
   ]
  },
  {
   "cell_type": "markdown",
   "id": "9ad2a589",
   "metadata": {},
   "source": [
    "# Шаг 2. Выгрузка данных\n",
    "Теперь понятно, как все выглядит внутри этого файла, поэтому приступим к подготовке данных для дашборда. Соберем в одну витрину данные из разных таблиц с помощью SQL-запросов."
   ]
  },
  {
   "cell_type": "code",
   "execution_count": 17,
   "id": "5a3d007a",
   "metadata": {},
   "outputs": [],
   "source": [
    "# первым делом объединяем таблицы по внешним ключам\n",
    "# далее указываем столбцы, которые хотим получитт из всех этих таблиц\n",
    "# для столбцов is_new, gender_segment, nps_group потребуется функция CASE, поскольку нужно нривести данные в другой вид\n",
    "query = \"\"\"\n",
    "SELECT u.user_id, \n",
    "       u.lt_day, \n",
    "            CASE\n",
    "                WHEN u.lt_day >= 365 THEN 'нет'\n",
    "                ELSE 'да'\n",
    "            END as is_new,\n",
    "        u.age, \n",
    "            CASE\n",
    "                WHEN u.gender_segment = 1 THEN 'женщина'\n",
    "                ELSE 'мужчина'\n",
    "            END AS gender_segment, \n",
    "        u.os_name, \n",
    "        u.cpe_type_name, \n",
    "        loc.country, \n",
    "        loc.city, \n",
    "        age.title AS age_segment,\n",
    "        ts.title AS traffic_segment,\n",
    "        ls.title AS lifetime_segment,\n",
    "        u.nps_score,\n",
    "            CASE\n",
    "                WHEN u.nps_score <= 6 THEN 'критики'\n",
    "                WHEN u.nps_score >= 9 THEN 'cторонники'\n",
    "                ELSE 'нейтралы'\n",
    "            END AS nps_group\n",
    "FROM user AS u\n",
    "LEFT JOIN location AS loc ON u.location_id = loc.location_id\n",
    "LEFT JOIN age_segment AS age ON u.age_gr_id = age.age_gr_id\n",
    "LEFT JOIN traffic_segment AS ts ON u.tr_gr_id = ts.tr_gr_id\n",
    "LEFT JOIN lifetime_segment AS ls ON u.lt_gr_id = ls.lt_gr_id\n",
    "\"\"\""
   ]
  },
  {
   "cell_type": "code",
   "execution_count": 18,
   "id": "504fdbae",
   "metadata": {
    "scrolled": true
   },
   "outputs": [
    {
     "data": {
      "text/html": [
       "<div>\n",
       "<style scoped>\n",
       "    .dataframe tbody tr th:only-of-type {\n",
       "        vertical-align: middle;\n",
       "    }\n",
       "\n",
       "    .dataframe tbody tr th {\n",
       "        vertical-align: top;\n",
       "    }\n",
       "\n",
       "    .dataframe thead th {\n",
       "        text-align: right;\n",
       "    }\n",
       "</style>\n",
       "<table border=\"1\" class=\"dataframe\">\n",
       "  <thead>\n",
       "    <tr style=\"text-align: right;\">\n",
       "      <th></th>\n",
       "      <th>user_id</th>\n",
       "      <th>lt_day</th>\n",
       "      <th>is_new</th>\n",
       "      <th>age</th>\n",
       "      <th>gender_segment</th>\n",
       "      <th>os_name</th>\n",
       "      <th>cpe_type_name</th>\n",
       "      <th>country</th>\n",
       "      <th>city</th>\n",
       "      <th>age_segment</th>\n",
       "      <th>traffic_segment</th>\n",
       "      <th>lifetime_segment</th>\n",
       "      <th>nps_score</th>\n",
       "      <th>nps_group</th>\n",
       "    </tr>\n",
       "  </thead>\n",
       "  <tbody>\n",
       "    <tr>\n",
       "      <th>0</th>\n",
       "      <td>A001A2</td>\n",
       "      <td>2320</td>\n",
       "      <td>нет</td>\n",
       "      <td>45.0</td>\n",
       "      <td>женщина</td>\n",
       "      <td>ANDROID</td>\n",
       "      <td>SMARTPHONE</td>\n",
       "      <td>Россия</td>\n",
       "      <td>Уфа</td>\n",
       "      <td>05 45-54</td>\n",
       "      <td>04 1-5</td>\n",
       "      <td>08 36+</td>\n",
       "      <td>10</td>\n",
       "      <td>cторонники</td>\n",
       "    </tr>\n",
       "    <tr>\n",
       "      <th>1</th>\n",
       "      <td>A001WF</td>\n",
       "      <td>2344</td>\n",
       "      <td>нет</td>\n",
       "      <td>53.0</td>\n",
       "      <td>мужчина</td>\n",
       "      <td>ANDROID</td>\n",
       "      <td>SMARTPHONE</td>\n",
       "      <td>Россия</td>\n",
       "      <td>Киров</td>\n",
       "      <td>05 45-54</td>\n",
       "      <td>04 1-5</td>\n",
       "      <td>08 36+</td>\n",
       "      <td>10</td>\n",
       "      <td>cторонники</td>\n",
       "    </tr>\n",
       "    <tr>\n",
       "      <th>2</th>\n",
       "      <td>A003Q7</td>\n",
       "      <td>467</td>\n",
       "      <td>нет</td>\n",
       "      <td>57.0</td>\n",
       "      <td>мужчина</td>\n",
       "      <td>ANDROID</td>\n",
       "      <td>SMARTPHONE</td>\n",
       "      <td>Россия</td>\n",
       "      <td>Москва</td>\n",
       "      <td>06 55-64</td>\n",
       "      <td>08 20-25</td>\n",
       "      <td>06 13-24</td>\n",
       "      <td>10</td>\n",
       "      <td>cторонники</td>\n",
       "    </tr>\n",
       "    <tr>\n",
       "      <th>3</th>\n",
       "      <td>A004TB</td>\n",
       "      <td>4190</td>\n",
       "      <td>нет</td>\n",
       "      <td>44.0</td>\n",
       "      <td>женщина</td>\n",
       "      <td>IOS</td>\n",
       "      <td>SMARTPHONE</td>\n",
       "      <td>Россия</td>\n",
       "      <td>РостовнаДону</td>\n",
       "      <td>04 35-44</td>\n",
       "      <td>03 0.1-1</td>\n",
       "      <td>08 36+</td>\n",
       "      <td>10</td>\n",
       "      <td>cторонники</td>\n",
       "    </tr>\n",
       "    <tr>\n",
       "      <th>4</th>\n",
       "      <td>A004XT</td>\n",
       "      <td>1163</td>\n",
       "      <td>нет</td>\n",
       "      <td>24.0</td>\n",
       "      <td>мужчина</td>\n",
       "      <td>ANDROID</td>\n",
       "      <td>SMARTPHONE</td>\n",
       "      <td>Россия</td>\n",
       "      <td>Рязань</td>\n",
       "      <td>02 16-24</td>\n",
       "      <td>05 5-10</td>\n",
       "      <td>08 36+</td>\n",
       "      <td>10</td>\n",
       "      <td>cторонники</td>\n",
       "    </tr>\n",
       "    <tr>\n",
       "      <th>5</th>\n",
       "      <td>A005O0</td>\n",
       "      <td>5501</td>\n",
       "      <td>нет</td>\n",
       "      <td>42.0</td>\n",
       "      <td>женщина</td>\n",
       "      <td>ANDROID</td>\n",
       "      <td>SMARTPHONE</td>\n",
       "      <td>Россия</td>\n",
       "      <td>Омск</td>\n",
       "      <td>04 35-44</td>\n",
       "      <td>05 5-10</td>\n",
       "      <td>08 36+</td>\n",
       "      <td>6</td>\n",
       "      <td>критики</td>\n",
       "    </tr>\n",
       "    <tr>\n",
       "      <th>6</th>\n",
       "      <td>A0061R</td>\n",
       "      <td>1236</td>\n",
       "      <td>нет</td>\n",
       "      <td>45.0</td>\n",
       "      <td>мужчина</td>\n",
       "      <td>ANDROID</td>\n",
       "      <td>SMARTPHONE</td>\n",
       "      <td>Россия</td>\n",
       "      <td>Уфа</td>\n",
       "      <td>05 45-54</td>\n",
       "      <td>06 10-15</td>\n",
       "      <td>08 36+</td>\n",
       "      <td>10</td>\n",
       "      <td>cторонники</td>\n",
       "    </tr>\n",
       "    <tr>\n",
       "      <th>7</th>\n",
       "      <td>A009KS</td>\n",
       "      <td>313</td>\n",
       "      <td>да</td>\n",
       "      <td>35.0</td>\n",
       "      <td>мужчина</td>\n",
       "      <td>ANDROID</td>\n",
       "      <td>SMARTPHONE</td>\n",
       "      <td>Россия</td>\n",
       "      <td>Москва</td>\n",
       "      <td>04 35-44</td>\n",
       "      <td>13 45-50</td>\n",
       "      <td>05 7-12</td>\n",
       "      <td>10</td>\n",
       "      <td>cторонники</td>\n",
       "    </tr>\n",
       "    <tr>\n",
       "      <th>8</th>\n",
       "      <td>A00AES</td>\n",
       "      <td>3238</td>\n",
       "      <td>нет</td>\n",
       "      <td>36.0</td>\n",
       "      <td>женщина</td>\n",
       "      <td>ANDROID</td>\n",
       "      <td>SMARTPHONE</td>\n",
       "      <td>Россия</td>\n",
       "      <td>СанктПетербург</td>\n",
       "      <td>04 35-44</td>\n",
       "      <td>04 1-5</td>\n",
       "      <td>08 36+</td>\n",
       "      <td>10</td>\n",
       "      <td>cторонники</td>\n",
       "    </tr>\n",
       "    <tr>\n",
       "      <th>9</th>\n",
       "      <td>A00F70</td>\n",
       "      <td>4479</td>\n",
       "      <td>нет</td>\n",
       "      <td>54.0</td>\n",
       "      <td>женщина</td>\n",
       "      <td>ANDROID</td>\n",
       "      <td>SMARTPHONE</td>\n",
       "      <td>Россия</td>\n",
       "      <td>Волгоград</td>\n",
       "      <td>05 45-54</td>\n",
       "      <td>07 15-20</td>\n",
       "      <td>08 36+</td>\n",
       "      <td>9</td>\n",
       "      <td>cторонники</td>\n",
       "    </tr>\n",
       "    <tr>\n",
       "      <th>10</th>\n",
       "      <td>A00HL5</td>\n",
       "      <td>5297</td>\n",
       "      <td>нет</td>\n",
       "      <td>39.0</td>\n",
       "      <td>мужчина</td>\n",
       "      <td>ANDROID</td>\n",
       "      <td>SMARTPHONE</td>\n",
       "      <td>Россия</td>\n",
       "      <td>Тольятти</td>\n",
       "      <td>04 35-44</td>\n",
       "      <td>09 25-30</td>\n",
       "      <td>08 36+</td>\n",
       "      <td>10</td>\n",
       "      <td>cторонники</td>\n",
       "    </tr>\n",
       "    <tr>\n",
       "      <th>11</th>\n",
       "      <td>A00NDN</td>\n",
       "      <td>1374</td>\n",
       "      <td>нет</td>\n",
       "      <td>21.0</td>\n",
       "      <td>мужчина</td>\n",
       "      <td>ANDROID</td>\n",
       "      <td>SMARTPHONE</td>\n",
       "      <td>Россия</td>\n",
       "      <td>Рязань</td>\n",
       "      <td>02 16-24</td>\n",
       "      <td>06 10-15</td>\n",
       "      <td>08 36+</td>\n",
       "      <td>2</td>\n",
       "      <td>критики</td>\n",
       "    </tr>\n",
       "    <tr>\n",
       "      <th>12</th>\n",
       "      <td>A00P46</td>\n",
       "      <td>179</td>\n",
       "      <td>да</td>\n",
       "      <td>27.0</td>\n",
       "      <td>мужчина</td>\n",
       "      <td>ANDROID</td>\n",
       "      <td>SMARTPHONE</td>\n",
       "      <td>Россия</td>\n",
       "      <td>Казань</td>\n",
       "      <td>03 25-34</td>\n",
       "      <td>13 45-50</td>\n",
       "      <td>04 4-6</td>\n",
       "      <td>10</td>\n",
       "      <td>cторонники</td>\n",
       "    </tr>\n",
       "    <tr>\n",
       "      <th>13</th>\n",
       "      <td>A00SA7</td>\n",
       "      <td>667</td>\n",
       "      <td>нет</td>\n",
       "      <td>60.0</td>\n",
       "      <td>мужчина</td>\n",
       "      <td>ANDROID</td>\n",
       "      <td>TABLET</td>\n",
       "      <td>Россия</td>\n",
       "      <td>Казань</td>\n",
       "      <td>06 55-64</td>\n",
       "      <td>05 5-10</td>\n",
       "      <td>06 13-24</td>\n",
       "      <td>5</td>\n",
       "      <td>критики</td>\n",
       "    </tr>\n",
       "    <tr>\n",
       "      <th>14</th>\n",
       "      <td>A00U8A</td>\n",
       "      <td>2908</td>\n",
       "      <td>нет</td>\n",
       "      <td>44.0</td>\n",
       "      <td>женщина</td>\n",
       "      <td>ANDROID</td>\n",
       "      <td>SMARTPHONE</td>\n",
       "      <td>Россия</td>\n",
       "      <td>СанктПетербург</td>\n",
       "      <td>04 35-44</td>\n",
       "      <td>05 5-10</td>\n",
       "      <td>08 36+</td>\n",
       "      <td>10</td>\n",
       "      <td>cторонники</td>\n",
       "    </tr>\n",
       "    <tr>\n",
       "      <th>15</th>\n",
       "      <td>A0116Q</td>\n",
       "      <td>2517</td>\n",
       "      <td>нет</td>\n",
       "      <td>34.0</td>\n",
       "      <td>мужчина</td>\n",
       "      <td>ANDROID</td>\n",
       "      <td>SMARTPHONE</td>\n",
       "      <td>Россия</td>\n",
       "      <td>Самара</td>\n",
       "      <td>03 25-34</td>\n",
       "      <td>07 15-20</td>\n",
       "      <td>08 36+</td>\n",
       "      <td>10</td>\n",
       "      <td>cторонники</td>\n",
       "    </tr>\n",
       "    <tr>\n",
       "      <th>16</th>\n",
       "      <td>A015CX</td>\n",
       "      <td>4073</td>\n",
       "      <td>нет</td>\n",
       "      <td>47.0</td>\n",
       "      <td>мужчина</td>\n",
       "      <td>ANDROID</td>\n",
       "      <td>SMARTPHONE</td>\n",
       "      <td>Россия</td>\n",
       "      <td>Самара</td>\n",
       "      <td>05 45-54</td>\n",
       "      <td>12 40-45</td>\n",
       "      <td>08 36+</td>\n",
       "      <td>9</td>\n",
       "      <td>cторонники</td>\n",
       "    </tr>\n",
       "    <tr>\n",
       "      <th>17</th>\n",
       "      <td>A017L3</td>\n",
       "      <td>372</td>\n",
       "      <td>нет</td>\n",
       "      <td>37.0</td>\n",
       "      <td>мужчина</td>\n",
       "      <td>IOS</td>\n",
       "      <td>SMARTPHONE</td>\n",
       "      <td>Россия</td>\n",
       "      <td>Красноярск</td>\n",
       "      <td>04 35-44</td>\n",
       "      <td>05 5-10</td>\n",
       "      <td>06 13-24</td>\n",
       "      <td>10</td>\n",
       "      <td>cторонники</td>\n",
       "    </tr>\n",
       "    <tr>\n",
       "      <th>18</th>\n",
       "      <td>A017QF</td>\n",
       "      <td>6155</td>\n",
       "      <td>нет</td>\n",
       "      <td>42.0</td>\n",
       "      <td>женщина</td>\n",
       "      <td>ANDROID</td>\n",
       "      <td>SMARTPHONE</td>\n",
       "      <td>Россия</td>\n",
       "      <td>Екатеринбург</td>\n",
       "      <td>04 35-44</td>\n",
       "      <td>05 5-10</td>\n",
       "      <td>08 36+</td>\n",
       "      <td>8</td>\n",
       "      <td>нейтралы</td>\n",
       "    </tr>\n",
       "    <tr>\n",
       "      <th>19</th>\n",
       "      <td>A018WZ</td>\n",
       "      <td>709</td>\n",
       "      <td>нет</td>\n",
       "      <td>43.0</td>\n",
       "      <td>мужчина</td>\n",
       "      <td>ANDROID</td>\n",
       "      <td>SMARTPHONE</td>\n",
       "      <td>Россия</td>\n",
       "      <td>Калуга</td>\n",
       "      <td>04 35-44</td>\n",
       "      <td>08 20-25</td>\n",
       "      <td>06 13-24</td>\n",
       "      <td>10</td>\n",
       "      <td>cторонники</td>\n",
       "    </tr>\n",
       "  </tbody>\n",
       "</table>\n",
       "</div>"
      ],
      "text/plain": [
       "   user_id  lt_day is_new   age gender_segment  os_name cpe_type_name country  \\\n",
       "0   A001A2    2320    нет  45.0        женщина  ANDROID    SMARTPHONE  Россия   \n",
       "1   A001WF    2344    нет  53.0        мужчина  ANDROID    SMARTPHONE  Россия   \n",
       "2   A003Q7     467    нет  57.0        мужчина  ANDROID    SMARTPHONE  Россия   \n",
       "3   A004TB    4190    нет  44.0        женщина      IOS    SMARTPHONE  Россия   \n",
       "4   A004XT    1163    нет  24.0        мужчина  ANDROID    SMARTPHONE  Россия   \n",
       "5   A005O0    5501    нет  42.0        женщина  ANDROID    SMARTPHONE  Россия   \n",
       "6   A0061R    1236    нет  45.0        мужчина  ANDROID    SMARTPHONE  Россия   \n",
       "7   A009KS     313     да  35.0        мужчина  ANDROID    SMARTPHONE  Россия   \n",
       "8   A00AES    3238    нет  36.0        женщина  ANDROID    SMARTPHONE  Россия   \n",
       "9   A00F70    4479    нет  54.0        женщина  ANDROID    SMARTPHONE  Россия   \n",
       "10  A00HL5    5297    нет  39.0        мужчина  ANDROID    SMARTPHONE  Россия   \n",
       "11  A00NDN    1374    нет  21.0        мужчина  ANDROID    SMARTPHONE  Россия   \n",
       "12  A00P46     179     да  27.0        мужчина  ANDROID    SMARTPHONE  Россия   \n",
       "13  A00SA7     667    нет  60.0        мужчина  ANDROID        TABLET  Россия   \n",
       "14  A00U8A    2908    нет  44.0        женщина  ANDROID    SMARTPHONE  Россия   \n",
       "15  A0116Q    2517    нет  34.0        мужчина  ANDROID    SMARTPHONE  Россия   \n",
       "16  A015CX    4073    нет  47.0        мужчина  ANDROID    SMARTPHONE  Россия   \n",
       "17  A017L3     372    нет  37.0        мужчина      IOS    SMARTPHONE  Россия   \n",
       "18  A017QF    6155    нет  42.0        женщина  ANDROID    SMARTPHONE  Россия   \n",
       "19  A018WZ     709    нет  43.0        мужчина  ANDROID    SMARTPHONE  Россия   \n",
       "\n",
       "              city age_segment traffic_segment lifetime_segment  nps_score  \\\n",
       "0              Уфа    05 45-54          04 1-5           08 36+         10   \n",
       "1            Киров    05 45-54          04 1-5           08 36+         10   \n",
       "2           Москва    06 55-64        08 20-25         06 13-24         10   \n",
       "3     РостовнаДону    04 35-44        03 0.1-1           08 36+         10   \n",
       "4           Рязань    02 16-24         05 5-10           08 36+         10   \n",
       "5             Омск    04 35-44         05 5-10           08 36+          6   \n",
       "6              Уфа    05 45-54        06 10-15           08 36+         10   \n",
       "7           Москва    04 35-44        13 45-50          05 7-12         10   \n",
       "8   СанктПетербург    04 35-44          04 1-5           08 36+         10   \n",
       "9        Волгоград    05 45-54        07 15-20           08 36+          9   \n",
       "10        Тольятти    04 35-44        09 25-30           08 36+         10   \n",
       "11          Рязань    02 16-24        06 10-15           08 36+          2   \n",
       "12          Казань    03 25-34        13 45-50           04 4-6         10   \n",
       "13          Казань    06 55-64         05 5-10         06 13-24          5   \n",
       "14  СанктПетербург    04 35-44         05 5-10           08 36+         10   \n",
       "15          Самара    03 25-34        07 15-20           08 36+         10   \n",
       "16          Самара    05 45-54        12 40-45           08 36+          9   \n",
       "17      Красноярск    04 35-44         05 5-10         06 13-24         10   \n",
       "18    Екатеринбург    04 35-44         05 5-10           08 36+          8   \n",
       "19          Калуга    04 35-44        08 20-25         06 13-24         10   \n",
       "\n",
       "     nps_group  \n",
       "0   cторонники  \n",
       "1   cторонники  \n",
       "2   cторонники  \n",
       "3   cторонники  \n",
       "4   cторонники  \n",
       "5      критики  \n",
       "6   cторонники  \n",
       "7   cторонники  \n",
       "8   cторонники  \n",
       "9   cторонники  \n",
       "10  cторонники  \n",
       "11     критики  \n",
       "12  cторонники  \n",
       "13     критики  \n",
       "14  cторонники  \n",
       "15  cторонники  \n",
       "16  cторонники  \n",
       "17  cторонники  \n",
       "18    нейтралы  \n",
       "19  cторонники  "
      ]
     },
     "execution_count": 18,
     "metadata": {},
     "output_type": "execute_result"
    }
   ],
   "source": [
    "df = pd.read_sql(query, engine)\n",
    "df.head(20)"
   ]
  },
  {
   "cell_type": "markdown",
   "id": "824d53e0",
   "metadata": {},
   "source": [
    "Ты верно посмотрела, что в итоге получилось.\n",
    "\n",
    "Но вообще перед загрузкой данных для дашбордов стоило посмотреть на полученную таблицу поподробнее. Какие значения у нас получились в колонках? Есть ли у нас выбросы, которые нужно как-то обработать перед построением отчетов? Дубликаты?\n",
    "    \n",
    "Все необходимые преобразования мы бы потом в Tableau выполнили, но само Tableau - это черный ящик, у нас есть на выходе результат, а преобразований мы не видим. Тут можно было в jupiter-e показать возможные проблемы, которые мы поправим в Tableau прежде чем создавать дашборды.\n",
    "    \n",
    "Например, нет ли у нас в NPS значений больше 10? Нет ли у нас в столбце возраст, каких-то необычных показателей? Есть ли выбросы в столбце lt_day? И.т.п."
   ]
  },
  {
   "cell_type": "code",
   "execution_count": 19,
   "id": "ad2596a7",
   "metadata": {},
   "outputs": [],
   "source": [
    "# Используем эту команду, чтоб сохранить таблицу как CSV-файл.\n",
    "df.to_csv('telecomm_csi_tableau.csv', index=False)"
   ]
  },
  {
   "cell_type": "markdown",
   "id": "6d89bc0e",
   "metadata": {},
   "source": [
    "# Шаг 3. Создание дашборда в Tableau\n",
    "\n",
    "Загрузили данные в Tableau.\n",
    "\n",
    "- Создали лист «Города», оформили визуализацию типа map, которая показала количество выступлений по городам России.\n",
    "- Создали лист «Топ городов» с визуализацией типа horizontal bars, использовали параметр и по нему создали сет, в который вошли топ-10 самых многочисленных по участникам опроса города).\n",
    "- Создали новый лист «Возраст и пол», оформили таблицу типа highlight table и отобразили количество участников опроса по возрастным и гендерным категориям.\n",
    "- Создали новый лист «Возраст и пол», оформили визуализацию типа horizontal bars.\n",
    "- Создали новый лист «Пол клиентов», оформили визуализацию типа horizontal bars и отобразили количество участников опроса по гендерным категориям.\n",
    "- Создали новый лист «Возраст клиентов», оформили визуализацию типа horizontal bars и отобразили количество участников опроса по возрастным категориям.\n",
    "- Создали новый лист «Лайфтайм пользователей», оформили визуализацию типа horizontal bars и отобразили количество участников опроса по гендерным категориям.\n",
    "- Создали новый лист «Дни», оформили визуализацию с распределением участников опроса по количеству дней \"жизни\" клиента.\n",
    "- Создали новый лист «Группы одобрения», оформили визуализацию pie chart с двойной осью, чтобы показать процентное соотношение групп NPS, а также создали исчисляемое поле, в котором посчитали общее значение NPS по формуле: % «сторонников» - % «критиков».\n",
    "- Создали новый лист «Оценки», оформили визуализацию типа horizontal bars и отобразили количество участников опроса по баллам.\n",
    "- Создали новый лист «Операционные системы и тип устройства», оформили визуализацию типа horizontal bars и отобразили количество участников в каждой категории.\n",
    "- Создали новый лист «Трафик», оформили визуализацию типа horizontal bars и отобразили количество участников ко количеству используемого трафика.\n",
    "- Создали дашборд."
   ]
  },
  {
   "cell_type": "markdown",
   "id": "de771393",
   "metadata": {},
   "source": [
    "# Шаг 4. Создание презентации\n",
    "\n",
    "С помощью story создали презентацию из пяти слайдов, отвечающих на следующие вопросы:\n",
    "\n",
    "\n",
    "\n",
    "Опубликовали презентацию на сайте Tableau Public."
   ]
  },
  {
   "cell_type": "markdown",
   "id": "fd9dc9fb",
   "metadata": {},
   "source": [
    "Ссылка на дашборд с презентацией:\n",
    "\n",
    "https://public.tableau.com/views/cityyap21/sheet14_1?:language=en-US&:sid=&:redirect=auth&:display_count=n&:origin=viz_share_link"
   ]
  },
  {
   "cell_type": "markdown",
   "id": "e7360860",
   "metadata": {},
   "source": [
    "# Общий вывод по проекту\n",
    "Исходя из полученных на опросе данных, можно сделать такие заключения:\n",
    "\n",
    "*1. Города миллионники возглавляют список городов, чьи жители охотно принимали участие в опросе.  Пользователи из Москвы в подавляющем большинстве активнее всех участвовали в опросе.*\n",
    "\n",
    "*2. Практически в каждой возрастной группе превалируют участники женского пола, особенно лидирует категория 35-44 лет. Мужчин до 24 лет чуть больше, чем женщин того же возраста.*\n",
    "\n",
    "*3. К категории \"старых\" клиентов относится больше половины всех участников опроса, следовательно эти люди продолжают пользоваться услугами данной телекоммуникационной компании уже более 36 мес.*\n",
    "\n",
    "*4. Лидируют смартфоны и планцеты на базе android, далее следует система IOS.*\n",
    "\n",
    "*5. Большинство клиентов ТКК потребляет от 1 до 5 пакетов трафика (может измеряться также в битах, байтах, КБ, МБ и т. д.).*\n",
    "\n",
    "**NPS составляет 21,9% - это хороший показатель, поскольку большинство (52,55%) от общего числа клиентов относятся к сторонникам услуг ТКК**\n",
    "\n",
    "**Сторонников услуг ТКК можно описать как женщин 35-44 лет, которые в основном пользуются услугами менее 12 мес и потребляют трафик в объеме 1-5 и пользуются смартфонами и планшетами на операционной системе Android.**"
   ]
  }
 ],
 "metadata": {
  "ExecuteTimeLog": [
   {
    "duration": 531,
    "start_time": "2024-07-10T12:06:06.041Z"
   },
   {
    "duration": 88,
    "start_time": "2024-07-10T12:06:07.369Z"
   },
   {
    "duration": 3,
    "start_time": "2024-07-10T12:06:08.150Z"
   },
   {
    "duration": 94,
    "start_time": "2024-07-10T12:06:17.984Z"
   },
   {
    "duration": 2,
    "start_time": "2024-07-10T12:06:18.158Z"
   },
   {
    "duration": 442,
    "start_time": "2024-07-10T12:06:18.308Z"
   },
   {
    "duration": 7,
    "start_time": "2024-07-10T12:06:18.793Z"
   },
   {
    "duration": 68,
    "start_time": "2024-07-10T12:07:08.434Z"
   },
   {
    "duration": 3,
    "start_time": "2024-07-10T12:07:08.917Z"
   },
   {
    "duration": 3904,
    "start_time": "2024-07-10T12:07:10.217Z"
   },
   {
    "duration": 2806,
    "start_time": "2024-07-10T12:07:14.122Z"
   },
   {
    "duration": 60,
    "start_time": "2024-07-10T12:07:36.168Z"
   },
   {
    "duration": 3,
    "start_time": "2024-07-10T12:07:36.745Z"
   },
   {
    "duration": 3747,
    "start_time": "2024-07-10T12:07:37.171Z"
   },
   {
    "duration": 3,
    "start_time": "2024-07-10T12:19:43.409Z"
   },
   {
    "duration": 58,
    "start_time": "2024-07-10T12:19:43.612Z"
   },
   {
    "duration": 3,
    "start_time": "2024-07-10T12:19:44.985Z"
   },
   {
    "duration": 3788,
    "start_time": "2024-07-10T12:20:40.534Z"
   },
   {
    "duration": 2842,
    "start_time": "2024-07-10T12:20:44.324Z"
   },
   {
    "duration": 3,
    "start_time": "2024-07-10T12:21:59.552Z"
   },
   {
    "duration": 502,
    "start_time": "2024-07-10T12:22:00.271Z"
   },
   {
    "duration": 2,
    "start_time": "2024-07-10T12:22:33.571Z"
   },
   {
    "duration": 494,
    "start_time": "2024-07-10T12:22:33.715Z"
   },
   {
    "duration": 3,
    "start_time": "2024-07-10T12:22:43.004Z"
   },
   {
    "duration": 492,
    "start_time": "2024-07-10T12:22:43.179Z"
   },
   {
    "duration": 3,
    "start_time": "2024-07-10T12:22:57.830Z"
   },
   {
    "duration": 496,
    "start_time": "2024-07-10T12:22:58.029Z"
   },
   {
    "duration": 496,
    "start_time": "2024-07-10T12:42:03.897Z"
   },
   {
    "duration": 82,
    "start_time": "2024-07-10T12:42:09.266Z"
   },
   {
    "duration": 47,
    "start_time": "2024-07-10T12:43:15.497Z"
   },
   {
    "duration": 80,
    "start_time": "2024-07-10T12:43:23.755Z"
   },
   {
    "duration": 3,
    "start_time": "2024-07-10T12:43:24.979Z"
   },
   {
    "duration": 487,
    "start_time": "2024-07-10T12:43:25.158Z"
   },
   {
    "duration": 3,
    "start_time": "2024-07-10T12:43:25.648Z"
   },
   {
    "duration": 473,
    "start_time": "2024-07-10T12:43:25.652Z"
   },
   {
    "duration": 3,
    "start_time": "2024-07-10T12:43:26.127Z"
   },
   {
    "duration": 513,
    "start_time": "2024-07-10T12:43:26.131Z"
   },
   {
    "duration": 2,
    "start_time": "2024-07-10T12:43:26.646Z"
   },
   {
    "duration": 475,
    "start_time": "2024-07-10T12:43:26.650Z"
   },
   {
    "duration": 457,
    "start_time": "2024-07-14T19:11:21.307Z"
   },
   {
    "duration": 77,
    "start_time": "2024-07-14T19:11:21.766Z"
   },
   {
    "duration": 2,
    "start_time": "2024-07-14T19:34:26.940Z"
   },
   {
    "duration": 2,
    "start_time": "2024-07-14T19:34:35.298Z"
   },
   {
    "duration": 479,
    "start_time": "2024-07-14T19:34:35.479Z"
   },
   {
    "duration": 0,
    "start_time": "2024-07-14T19:34:35.959Z"
   },
   {
    "duration": 0,
    "start_time": "2024-07-14T19:34:35.961Z"
   },
   {
    "duration": 340,
    "start_time": "2024-07-14T19:34:35.977Z"
   },
   {
    "duration": 0,
    "start_time": "2024-07-14T19:34:36.319Z"
   },
   {
    "duration": 356,
    "start_time": "2024-07-14T19:34:36.327Z"
   },
   {
    "duration": 0,
    "start_time": "2024-07-14T19:34:36.685Z"
   },
   {
    "duration": 341,
    "start_time": "2024-07-14T19:34:36.895Z"
   },
   {
    "duration": 1,
    "start_time": "2024-07-14T19:34:37.237Z"
   },
   {
    "duration": 452,
    "start_time": "2024-07-14T19:34:54.933Z"
   },
   {
    "duration": 53,
    "start_time": "2024-07-14T19:34:55.628Z"
   },
   {
    "duration": 2,
    "start_time": "2024-07-14T19:34:57.249Z"
   },
   {
    "duration": 417,
    "start_time": "2024-07-14T19:34:58.202Z"
   },
   {
    "duration": 2,
    "start_time": "2024-07-14T19:35:25.652Z"
   },
   {
    "duration": 2937,
    "start_time": "2024-07-14T19:35:26.086Z"
   },
   {
    "duration": 2,
    "start_time": "2024-07-14T19:35:29.851Z"
   },
   {
    "duration": 558,
    "start_time": "2024-07-14T19:35:30.063Z"
   },
   {
    "duration": 3,
    "start_time": "2024-07-14T19:35:31.051Z"
   },
   {
    "duration": 558,
    "start_time": "2024-07-14T19:35:31.312Z"
   },
   {
    "duration": 2,
    "start_time": "2024-07-14T19:35:31.872Z"
   },
   {
    "duration": 569,
    "start_time": "2024-07-14T19:35:31.875Z"
   },
   {
    "duration": 2,
    "start_time": "2024-07-14T19:35:32.446Z"
   },
   {
    "duration": 560,
    "start_time": "2024-07-14T19:35:35.419Z"
   },
   {
    "duration": 3,
    "start_time": "2024-07-14T19:35:38.103Z"
   },
   {
    "duration": 362,
    "start_time": "2024-07-14T19:35:54.820Z"
   },
   {
    "duration": 445,
    "start_time": "2024-07-14T19:42:12.868Z"
   },
   {
    "duration": 61,
    "start_time": "2024-07-14T19:42:13.315Z"
   },
   {
    "duration": 2,
    "start_time": "2024-07-14T19:42:13.377Z"
   },
   {
    "duration": 2969,
    "start_time": "2024-07-14T19:42:13.380Z"
   },
   {
    "duration": 2,
    "start_time": "2024-07-14T19:42:16.351Z"
   },
   {
    "duration": 573,
    "start_time": "2024-07-14T19:42:16.355Z"
   },
   {
    "duration": 2,
    "start_time": "2024-07-14T19:42:16.929Z"
   },
   {
    "duration": 564,
    "start_time": "2024-07-14T19:42:16.933Z"
   },
   {
    "duration": 2,
    "start_time": "2024-07-14T19:42:17.498Z"
   },
   {
    "duration": 533,
    "start_time": "2024-07-14T19:42:17.501Z"
   },
   {
    "duration": 2,
    "start_time": "2024-07-14T19:42:18.035Z"
   },
   {
    "duration": 567,
    "start_time": "2024-07-14T19:42:18.038Z"
   },
   {
    "duration": 3,
    "start_time": "2024-07-14T19:42:18.606Z"
   },
   {
    "duration": 396,
    "start_time": "2024-07-14T19:42:18.610Z"
   },
   {
    "duration": 2,
    "start_time": "2024-07-14T19:43:25.323Z"
   },
   {
    "duration": 4170,
    "start_time": "2024-07-14T19:43:26.013Z"
   },
   {
    "duration": 3,
    "start_time": "2024-07-14T19:43:37.046Z"
   },
   {
    "duration": 4174,
    "start_time": "2024-07-14T19:43:38.363Z"
   },
   {
    "duration": 3452,
    "start_time": "2024-07-14T19:46:45.984Z"
   }
  ],
  "kernelspec": {
   "display_name": "Python 3 (ipykernel)",
   "language": "python",
   "name": "python3"
  },
  "language_info": {
   "codemirror_mode": {
    "name": "ipython",
    "version": 3
   },
   "file_extension": ".py",
   "mimetype": "text/x-python",
   "name": "python",
   "nbconvert_exporter": "python",
   "pygments_lexer": "ipython3",
   "version": "3.9.5"
  },
  "toc": {
   "base_numbering": 1,
   "nav_menu": {},
   "number_sections": true,
   "sideBar": true,
   "skip_h1_title": true,
   "title_cell": "Table of Contents",
   "title_sidebar": "Contents",
   "toc_cell": false,
   "toc_position": {},
   "toc_section_display": true,
   "toc_window_display": false
  }
 },
 "nbformat": 4,
 "nbformat_minor": 5
}
